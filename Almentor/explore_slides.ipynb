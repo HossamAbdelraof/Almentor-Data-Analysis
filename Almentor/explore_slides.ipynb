{
 "cells": [
  {
   "cell_type": "markdown",
   "id": "72ba11ae-aa6a-4f9a-8ba5-3436362f8384",
   "metadata": {
    "slideshow": {
     "slide_type": "skip"
    },
    "tags": []
   },
   "source": [
    "### read required libraries"
   ]
  },
  {
   "cell_type": "code",
   "execution_count": 1,
   "id": "eca06535-0fe7-4e4a-9383-99e6adbb2e05",
   "metadata": {
    "slideshow": {
     "slide_type": "skip"
    },
    "tags": []
   },
   "outputs": [],
   "source": [
    "import pandas as pd\n",
    "import seaborn as sns\n",
    "import regex as re\n",
    "import matplotlib.pyplot as plt\n",
    "import matplotlib.dates as mdates\n",
    "import datetime"
   ]
  },
  {
   "cell_type": "markdown",
   "id": "22adb14a-c0ff-490e-a43b-76088f7c7b2c",
   "metadata": {
    "slideshow": {
     "slide_type": "skip"
    },
    "tags": []
   },
   "source": [
    "## Read and optemize files"
   ]
  },
  {
   "cell_type": "markdown",
   "id": "f6b87808-6eeb-47da-a310-8494d34109bc",
   "metadata": {
    "slideshow": {
     "slide_type": "skip"
    },
    "tags": []
   },
   "source": [
    "##### reading text data file"
   ]
  },
  {
   "cell_type": "code",
   "execution_count": 2,
   "id": "ff43c62d-74e3-4af7-87b7-d0f23fd31f8b",
   "metadata": {
    "slideshow": {
     "slide_type": "skip"
    },
    "tags": []
   },
   "outputs": [],
   "source": [
    "## open the file and read it \n",
    "with open(\"C:\\\\Users\\\\20812018100700\\\\working\\\\work\\\\rd_part\\\\result_full.txt\", encoding='utf-8')as f:\n",
    "    result = f.read()"
   ]
  },
  {
   "cell_type": "code",
   "execution_count": 3,
   "id": "eedb6c46-e375-4f7b-80ba-bb50a8853a90",
   "metadata": {
    "slideshow": {
     "slide_type": "skip"
    },
    "tags": []
   },
   "outputs": [],
   "source": [
    "## split .txt file \n",
    "result = re.split(\"done [0-9$,.%]+\\d*\\n\", result)"
   ]
  },
  {
   "cell_type": "markdown",
   "id": "24968aae-ad91-4813-8765-1aff8ecf62cd",
   "metadata": {
    "slideshow": {
     "slide_type": "skip"
    },
    "tags": []
   },
   "source": [
    "##### reading orignal data frame"
   ]
  },
  {
   "cell_type": "code",
   "execution_count": 4,
   "id": "81a46036-caa7-40c8-b4e9-413fed565a22",
   "metadata": {
    "slideshow": {
     "slide_type": "skip"
    },
    "tags": []
   },
   "outputs": [],
   "source": [
    "## read DataFrame\n",
    "df = pd.read_csv(\"C:\\\\Users\\\\20812018100700\\\\working\\\\work\\\\rd_part\\\\test2_data.csv\")"
   ]
  },
  {
   "cell_type": "code",
   "execution_count": 5,
   "id": "7396897e-c07f-4f51-b4db-6a8a418d2888",
   "metadata": {
    "slideshow": {
     "slide_type": "skip"
    },
    "tags": []
   },
   "outputs": [],
   "source": [
    "## drop null values\n",
    "df = df[df[\"message\"].notnull()]"
   ]
  },
  {
   "cell_type": "code",
   "execution_count": 6,
   "id": "8f6a2dab-4026-41a7-9686-747d6aba16b4",
   "metadata": {
    "slideshow": {
     "slide_type": "skip"
    },
    "tags": []
   },
   "outputs": [],
   "source": [
    "## reset the index of DF\n",
    "df.reset_index(drop=True, inplace=True)"
   ]
  },
  {
   "cell_type": "code",
   "execution_count": 7,
   "id": "446e4339-330b-4630-80af-1083c709aa1c",
   "metadata": {
    "slideshow": {
     "slide_type": "skip"
    },
    "tags": []
   },
   "outputs": [
    {
     "name": "stdout",
     "output_type": "stream",
     "text": [
      "<class 'pandas.core.frame.DataFrame'>\n",
      "RangeIndex: 15200 entries, 0 to 15199\n",
      "Data columns (total 4 columns):\n",
      " #   Column        Non-Null Count  Dtype \n",
      "---  ------        --------------  ----- \n",
      " 0   created_time  15200 non-null  object\n",
      " 1   message       15200 non-null  object\n",
      " 2   id            15200 non-null  object\n",
      " 3   from          91 non-null     object\n",
      "dtypes: object(4)\n",
      "memory usage: 475.1+ KB\n"
     ]
    }
   ],
   "source": [
    "## slice the DF to the len of our data\n",
    "df = df.iloc[:len(result), :]\n",
    "df.info()"
   ]
  },
  {
   "cell_type": "markdown",
   "id": "5f81da6a-f79a-472d-aa41-9c9913841d92",
   "metadata": {
    "slideshow": {
     "slide_type": "skip"
    },
    "tags": []
   },
   "source": [
    "### extract values from text file"
   ]
  },
  {
   "cell_type": "code",
   "execution_count": 8,
   "id": "d489a488-89fc-455b-9a04-2f9364d46ebe",
   "metadata": {},
   "outputs": [],
   "source": [
    "## store values in dict \n",
    "data = {\n",
    "        \"Translate\": [],\n",
    "        \"is_human\" : [],\n",
    "        \"sentment\" : [],\n",
    "        \"positive\" : [], \n",
    "        \"neutral\"  : [],\n",
    "        \"negative\" : []\n",
    "        }"
   ]
  },
  {
   "cell_type": "code",
   "execution_count": 9,
   "id": "a024a547-1682-40ab-8ac9-ee994b16977e",
   "metadata": {},
   "outputs": [],
   "source": [
    "## loop for each value in result list extract is_human \n",
    "## if not human: will extract the Translation, Sentment overall rank, sentment score\n",
    "## else the sentment is nutral/no translation\n",
    "for i in range(len(result)): \n",
    "    iz = re.search('(?<=is human: )(.*)', result[i]).groups()[0]\n",
    "    data[\"is_human\"].append(iz[0])\n",
    "    if (iz == \"True\"):\n",
    "        data[\"sentment\"].append(\"neutral\")\n",
    "        data[\"Translate\"].append(result[i].split(\" \\n\\n\")[0])\n",
    "        h = ['positive=0.00', 'neutral=1.00', 'negative=0.00 ']\n",
    "        for j in h:\n",
    "            s = j.split(\"=\")\n",
    "            data[s[0]].append(s[1])        \n",
    "                                   \n",
    "    else:                          \n",
    "        m = re.search('(?<=Document Sentiment: )(.*)', result[i]).groups()\n",
    "        data[\"sentment\"].append(m[0])\n",
    "        \n",
    "        n = re.search('(?<=Translate: )(.*)', result[i]).groups()\n",
    "        data[\"Translate\"].append(n[0])\n",
    "        \n",
    "        h = str(re.search('(?<=Overall scores: )(.*)', result[i]).groups()[0]).split(\"; \")\n",
    "        for j in h:\n",
    "            s = j.split(\"=\")\n",
    "            data[s[0]].append(s[1])\n",
    "        "
   ]
  },
  {
   "cell_type": "code",
   "execution_count": 10,
   "id": "a2e4e4a5-cb0a-4cc6-b24d-d941eb3d23ab",
   "metadata": {
    "slideshow": {
     "slide_type": "skip"
    },
    "tags": []
   },
   "outputs": [
    {
     "data": {
      "text/html": [
       "<div>\n",
       "<style scoped>\n",
       "    .dataframe tbody tr th:only-of-type {\n",
       "        vertical-align: middle;\n",
       "    }\n",
       "\n",
       "    .dataframe tbody tr th {\n",
       "        vertical-align: top;\n",
       "    }\n",
       "\n",
       "    .dataframe thead th {\n",
       "        text-align: right;\n",
       "    }\n",
       "</style>\n",
       "<table border=\"1\" class=\"dataframe\">\n",
       "  <thead>\n",
       "    <tr style=\"text-align: right;\">\n",
       "      <th></th>\n",
       "      <th>Translate</th>\n",
       "      <th>is_human</th>\n",
       "      <th>sentment</th>\n",
       "      <th>positive</th>\n",
       "      <th>neutral</th>\n",
       "      <th>negative</th>\n",
       "    </tr>\n",
       "  </thead>\n",
       "  <tbody>\n",
       "    <tr>\n",
       "      <th>11044</th>\n",
       "      <td>Eslam Ayman</td>\n",
       "      <td>T</td>\n",
       "      <td>neutral</td>\n",
       "      <td>0.00</td>\n",
       "      <td>1.00</td>\n",
       "      <td>0.00</td>\n",
       "    </tr>\n",
       "    <tr>\n",
       "      <th>11269</th>\n",
       "      <td>Bectam Elkorce?</td>\n",
       "      <td>F</td>\n",
       "      <td>neutral</td>\n",
       "      <td>0.07</td>\n",
       "      <td>0.90</td>\n",
       "      <td>0.03</td>\n",
       "    </tr>\n",
       "    <tr>\n",
       "      <th>10002</th>\n",
       "      <td>I made an advertisement funded for my work and...</td>\n",
       "      <td>F</td>\n",
       "      <td>negative</td>\n",
       "      <td>0.02</td>\n",
       "      <td>0.37</td>\n",
       "      <td>0.61</td>\n",
       "    </tr>\n",
       "    <tr>\n",
       "      <th>12562</th>\n",
       "      <td>Somaya Samy</td>\n",
       "      <td>T</td>\n",
       "      <td>neutral</td>\n",
       "      <td>0.00</td>\n",
       "      <td>1.00</td>\n",
       "      <td>0.00</td>\n",
       "    </tr>\n",
       "    <tr>\n",
       "      <th>488</th>\n",
       "      <td>May God give you health and health ♥️♥️♥️♥️</td>\n",
       "      <td>F</td>\n",
       "      <td>neutral</td>\n",
       "      <td>0.18</td>\n",
       "      <td>0.78</td>\n",
       "      <td>0.04</td>\n",
       "    </tr>\n",
       "    <tr>\n",
       "      <th>13758</th>\n",
       "      <td>who knows how to leave he can succeed 👍</td>\n",
       "      <td>F</td>\n",
       "      <td>positive</td>\n",
       "      <td>0.94</td>\n",
       "      <td>0.03</td>\n",
       "      <td>0.03</td>\n",
       "    </tr>\n",
       "    <tr>\n",
       "      <th>4251</th>\n",
       "      <td>Mohamed Abdelmoneam Shehab</td>\n",
       "      <td>T</td>\n",
       "      <td>neutral</td>\n",
       "      <td>0.00</td>\n",
       "      <td>1.00</td>\n",
       "      <td>0.00</td>\n",
       "    </tr>\n",
       "    <tr>\n",
       "      <th>4593</th>\n",
       "      <td>The manager distributes roles and sets a plan ...</td>\n",
       "      <td>F</td>\n",
       "      <td>neutral</td>\n",
       "      <td>0.06</td>\n",
       "      <td>0.91</td>\n",
       "      <td>0.03</td>\n",
       "    </tr>\n",
       "    <tr>\n",
       "      <th>8564</th>\n",
       "      <td>what kind of work is available</td>\n",
       "      <td>F</td>\n",
       "      <td>neutral</td>\n",
       "      <td>0.09</td>\n",
       "      <td>0.90</td>\n",
       "      <td>0.01</td>\n",
       "    </tr>\n",
       "    <tr>\n",
       "      <th>4013</th>\n",
       "      <td>Details, please.</td>\n",
       "      <td>F</td>\n",
       "      <td>neutral</td>\n",
       "      <td>0.02</td>\n",
       "      <td>0.97</td>\n",
       "      <td>0.01</td>\n",
       "    </tr>\n",
       "  </tbody>\n",
       "</table>\n",
       "</div>"
      ],
      "text/plain": [
       "                                               Translate is_human  sentment  \\\n",
       "11044                                        Eslam Ayman        T   neutral   \n",
       "11269                                    Bectam Elkorce?        F   neutral   \n",
       "10002  I made an advertisement funded for my work and...        F  negative   \n",
       "12562                                        Somaya Samy        T   neutral   \n",
       "488          May God give you health and health ♥️♥️♥️♥️        F   neutral   \n",
       "13758            who knows how to leave he can succeed 👍        F  positive   \n",
       "4251                         Mohamed Abdelmoneam Shehab         T   neutral   \n",
       "4593   The manager distributes roles and sets a plan ...        F   neutral   \n",
       "8564                      what kind of work is available        F   neutral   \n",
       "4013                                    Details, please.        F   neutral   \n",
       "\n",
       "      positive neutral negative  \n",
       "11044     0.00    1.00    0.00   \n",
       "11269     0.07    0.90    0.03   \n",
       "10002     0.02    0.37    0.61   \n",
       "12562     0.00    1.00    0.00   \n",
       "488       0.18    0.78    0.04   \n",
       "13758     0.94    0.03    0.03   \n",
       "4251      0.00    1.00    0.00   \n",
       "4593      0.06    0.91    0.03   \n",
       "8564      0.09    0.90    0.01   \n",
       "4013      0.02    0.97    0.01   "
      ]
     },
     "execution_count": 10,
     "metadata": {},
     "output_type": "execute_result"
    }
   ],
   "source": [
    "## convert dict to dataFrame\n",
    "df1= pd.DataFrame(data)\n",
    "df1.sample(10)"
   ]
  },
  {
   "cell_type": "code",
   "execution_count": null,
   "id": "2eb2bc90-3261-48fd-b1d8-b2e4b15fe4d1",
   "metadata": {},
   "outputs": [],
   "source": []
  },
  {
   "cell_type": "markdown",
   "id": "01cd6897-5ff7-46ac-a426-4a2cf1a2088f",
   "metadata": {
    "slideshow": {
     "slide_type": "skip"
    },
    "tags": []
   },
   "source": [
    "### merge the 2 dataframes to 1 df"
   ]
  },
  {
   "cell_type": "code",
   "execution_count": 11,
   "id": "fee4b8f8-4fb0-40f5-9a07-5c6bc68ad5d6",
   "metadata": {
    "slideshow": {
     "slide_type": "skip"
    },
    "tags": []
   },
   "outputs": [
    {
     "data": {
      "text/html": [
       "<div>\n",
       "<style scoped>\n",
       "    .dataframe tbody tr th:only-of-type {\n",
       "        vertical-align: middle;\n",
       "    }\n",
       "\n",
       "    .dataframe tbody tr th {\n",
       "        vertical-align: top;\n",
       "    }\n",
       "\n",
       "    .dataframe thead th {\n",
       "        text-align: right;\n",
       "    }\n",
       "</style>\n",
       "<table border=\"1\" class=\"dataframe\">\n",
       "  <thead>\n",
       "    <tr style=\"text-align: right;\">\n",
       "      <th></th>\n",
       "      <th>created_time</th>\n",
       "      <th>message</th>\n",
       "      <th>id</th>\n",
       "      <th>from</th>\n",
       "      <th>Translate</th>\n",
       "      <th>is_human</th>\n",
       "      <th>sentment</th>\n",
       "      <th>positive</th>\n",
       "      <th>neutral</th>\n",
       "      <th>negative</th>\n",
       "    </tr>\n",
       "  </thead>\n",
       "  <tbody>\n",
       "    <tr>\n",
       "      <th>0</th>\n",
       "      <td>2021-08-30T18:45:14+0000</td>\n",
       "      <td>من فضلك عاوزة أسأل عن الكورس بتاع دكتور حنان ر...</td>\n",
       "      <td>1909076255920699_1909102692584722</td>\n",
       "      <td>NaN</td>\n",
       "      <td>Please, I want to ask about dr. Hanan Radwan's...</td>\n",
       "      <td>F</td>\n",
       "      <td>neutral</td>\n",
       "      <td>0.05</td>\n",
       "      <td>0.92</td>\n",
       "      <td>0.03</td>\n",
       "    </tr>\n",
       "    <tr>\n",
       "      <th>1</th>\n",
       "      <td>2021-08-26T18:14:24+0000</td>\n",
       "      <td>ممكن معلومات عن المسابقة</td>\n",
       "      <td>1905738672921124_1905795872915404</td>\n",
       "      <td>NaN</td>\n",
       "      <td>Can I get information about the contest?</td>\n",
       "      <td>F</td>\n",
       "      <td>neutral</td>\n",
       "      <td>0.01</td>\n",
       "      <td>0.98</td>\n",
       "      <td>0.01</td>\n",
       "    </tr>\n",
       "    <tr>\n",
       "      <th>2</th>\n",
       "      <td>2021-08-28T21:14:33+0000</td>\n",
       "      <td>مبروووك</td>\n",
       "      <td>1905738672921124_1907514736076851</td>\n",
       "      <td>NaN</td>\n",
       "      <td>Congratulations</td>\n",
       "      <td>F</td>\n",
       "      <td>positive</td>\n",
       "      <td>0.57</td>\n",
       "      <td>0.39</td>\n",
       "      <td>0.04</td>\n",
       "    </tr>\n",
       "    <tr>\n",
       "      <th>3</th>\n",
       "      <td>2021-08-27T20:36:52+0000</td>\n",
       "      <td>مشاركه حلوة وناس فوق الممتازه كانو في المسابقه...</td>\n",
       "      <td>1905738672921124_1906692159492442</td>\n",
       "      <td>NaN</td>\n",
       "      <td>Nice participation and people above the excell...</td>\n",
       "      <td>F</td>\n",
       "      <td>positive</td>\n",
       "      <td>1.00</td>\n",
       "      <td>0.00</td>\n",
       "      <td>0.00</td>\n",
       "    </tr>\n",
       "    <tr>\n",
       "      <th>4</th>\n",
       "      <td>2021-08-27T19:32:24+0000</td>\n",
       "      <td>ممكن تفاصيل</td>\n",
       "      <td>1905738672921124_1906660966162228</td>\n",
       "      <td>NaN</td>\n",
       "      <td>Can I have details</td>\n",
       "      <td>F</td>\n",
       "      <td>neutral</td>\n",
       "      <td>0.01</td>\n",
       "      <td>0.98</td>\n",
       "      <td>0.01</td>\n",
       "    </tr>\n",
       "    <tr>\n",
       "      <th>5</th>\n",
       "      <td>2021-08-26T17:05:00+0000</td>\n",
       "      <td>حاجة عظيمة</td>\n",
       "      <td>1905738672921124_1905753419586316</td>\n",
       "      <td>NaN</td>\n",
       "      <td>Great thing</td>\n",
       "      <td>F</td>\n",
       "      <td>positive</td>\n",
       "      <td>1.00</td>\n",
       "      <td>0.00</td>\n",
       "      <td>0.00</td>\n",
       "    </tr>\n",
       "    <tr>\n",
       "      <th>6</th>\n",
       "      <td>2021-08-26T03:14:07+0000</td>\n",
       "      <td>Dania Xina Mahariq</td>\n",
       "      <td>1905016969659961_1905233889638269</td>\n",
       "      <td>NaN</td>\n",
       "      <td>Dania Xina Mahariq</td>\n",
       "      <td>T</td>\n",
       "      <td>neutral</td>\n",
       "      <td>0.00</td>\n",
       "      <td>1.00</td>\n",
       "      <td>0.00</td>\n",
       "    </tr>\n",
       "    <tr>\n",
       "      <th>7</th>\n",
       "      <td>2021-08-27T00:40:48+0000</td>\n",
       "      <td>Sara Yassin</td>\n",
       "      <td>1905016969659961_1905994712895520</td>\n",
       "      <td>NaN</td>\n",
       "      <td>Sara Yassin</td>\n",
       "      <td>T</td>\n",
       "      <td>neutral</td>\n",
       "      <td>0.00</td>\n",
       "      <td>1.00</td>\n",
       "      <td>0.00</td>\n",
       "    </tr>\n",
       "    <tr>\n",
       "      <th>8</th>\n",
       "      <td>2021-08-27T00:40:36+0000</td>\n",
       "      <td>Eman Nour</td>\n",
       "      <td>1905016969659961_1905994639562194</td>\n",
       "      <td>NaN</td>\n",
       "      <td>Eman Nour</td>\n",
       "      <td>T</td>\n",
       "      <td>neutral</td>\n",
       "      <td>0.00</td>\n",
       "      <td>1.00</td>\n",
       "      <td>0.00</td>\n",
       "    </tr>\n",
       "    <tr>\n",
       "      <th>9</th>\n",
       "      <td>2021-08-26T11:52:27+0000</td>\n",
       "      <td>تفاصيل</td>\n",
       "      <td>1905016969659961_1905550172939974</td>\n",
       "      <td>NaN</td>\n",
       "      <td>Details</td>\n",
       "      <td>F</td>\n",
       "      <td>neutral</td>\n",
       "      <td>0.13</td>\n",
       "      <td>0.82</td>\n",
       "      <td>0.05</td>\n",
       "    </tr>\n",
       "    <tr>\n",
       "      <th>10</th>\n",
       "      <td>2021-08-25T20:49:11+0000</td>\n",
       "      <td>Dina Ibrahim Abdel-rahman</td>\n",
       "      <td>1905016969659961_1905044186323906</td>\n",
       "      <td>NaN</td>\n",
       "      <td>Dina Ibrahim Abdel-rahman</td>\n",
       "      <td>T</td>\n",
       "      <td>neutral</td>\n",
       "      <td>0.00</td>\n",
       "      <td>1.00</td>\n",
       "      <td>0.00</td>\n",
       "    </tr>\n",
       "    <tr>\n",
       "      <th>11</th>\n",
       "      <td>2021-08-25T20:34:04+0000</td>\n",
       "      <td>Mariam Wael\\nMai Wael</td>\n",
       "      <td>1905016969659961_1905038372991154</td>\n",
       "      <td>NaN</td>\n",
       "      <td>Mariam Wael\\nMai Wael</td>\n",
       "      <td>T</td>\n",
       "      <td>neutral</td>\n",
       "      <td>0.00</td>\n",
       "      <td>1.00</td>\n",
       "      <td>0.00</td>\n",
       "    </tr>\n",
       "    <tr>\n",
       "      <th>12</th>\n",
       "      <td>2021-08-28T19:09:18+0000</td>\n",
       "      <td>Tasnem El-sherif</td>\n",
       "      <td>1902281406600184_1907444256083899</td>\n",
       "      <td>NaN</td>\n",
       "      <td>Tasnem El-sherif</td>\n",
       "      <td>T</td>\n",
       "      <td>neutral</td>\n",
       "      <td>0.00</td>\n",
       "      <td>1.00</td>\n",
       "      <td>0.00</td>\n",
       "    </tr>\n",
       "    <tr>\n",
       "      <th>13</th>\n",
       "      <td>2021-08-31T00:49:23+0000</td>\n",
       "      <td>رحاب عبدالعليم</td>\n",
       "      <td>1902281406600184_1909292222565769</td>\n",
       "      <td>NaN</td>\n",
       "      <td>Rehab Abdul , Alim</td>\n",
       "      <td>F</td>\n",
       "      <td>neutral</td>\n",
       "      <td>0.06</td>\n",
       "      <td>0.89</td>\n",
       "      <td>0.05</td>\n",
       "    </tr>\n",
       "    <tr>\n",
       "      <th>14</th>\n",
       "      <td>2021-08-23T06:04:12+0000</td>\n",
       "      <td>بكام</td>\n",
       "      <td>1902281406600184_1902784989883159</td>\n",
       "      <td>NaN</td>\n",
       "      <td>Beccom</td>\n",
       "      <td>F</td>\n",
       "      <td>neutral</td>\n",
       "      <td>0.13</td>\n",
       "      <td>0.81</td>\n",
       "      <td>0.06</td>\n",
       "    </tr>\n",
       "    <tr>\n",
       "      <th>15</th>\n",
       "      <td>2021-08-23T00:20:03+0000</td>\n",
       "      <td>ازاي اعالج الديفوهات</td>\n",
       "      <td>1902281406600184_1902625193232472</td>\n",
       "      <td>NaN</td>\n",
       "      <td>For your al-Dafuhat.</td>\n",
       "      <td>F</td>\n",
       "      <td>neutral</td>\n",
       "      <td>0.04</td>\n",
       "      <td>0.95</td>\n",
       "      <td>0.01</td>\n",
       "    </tr>\n",
       "    <tr>\n",
       "      <th>16</th>\n",
       "      <td>2021-08-27T15:09:39+0000</td>\n",
       "      <td>Mai Mahmoud</td>\n",
       "      <td>1902281406600184_1906489052846086</td>\n",
       "      <td>NaN</td>\n",
       "      <td>Mai Mahmoud</td>\n",
       "      <td>T</td>\n",
       "      <td>neutral</td>\n",
       "      <td>0.00</td>\n",
       "      <td>1.00</td>\n",
       "      <td>0.00</td>\n",
       "    </tr>\n",
       "    <tr>\n",
       "      <th>17</th>\n",
       "      <td>2021-09-01T10:50:40+0000</td>\n",
       "      <td>فكرة الكورس عظيمة. ❤</td>\n",
       "      <td>1902281406600184_1910505589111099</td>\n",
       "      <td>NaN</td>\n",
       "      <td>The idea of the course is great. ❤</td>\n",
       "      <td>F</td>\n",
       "      <td>positive</td>\n",
       "      <td>1.00</td>\n",
       "      <td>0.00</td>\n",
       "      <td>0.00</td>\n",
       "    </tr>\n",
       "    <tr>\n",
       "      <th>18</th>\n",
       "      <td>2021-08-31T00:50:55+0000</td>\n",
       "      <td>Shruq Tareq في كورسات حلوه هنا خدي لفه</td>\n",
       "      <td>1898036200358038_1909292852565706</td>\n",
       "      <td>NaN</td>\n",
       "      <td>Shruq Tareq في كورسات حلوه هنا خدي لفه</td>\n",
       "      <td>T</td>\n",
       "      <td>neutral</td>\n",
       "      <td>0.00</td>\n",
       "      <td>1.00</td>\n",
       "      <td>0.00</td>\n",
       "    </tr>\n",
       "    <tr>\n",
       "      <th>19</th>\n",
       "      <td>2021-08-22T00:05:36+0000</td>\n",
       "      <td>Donia Mustafa</td>\n",
       "      <td>1898036200358038_1901853749976283</td>\n",
       "      <td>NaN</td>\n",
       "      <td>Donia Mustafa</td>\n",
       "      <td>T</td>\n",
       "      <td>neutral</td>\n",
       "      <td>0.00</td>\n",
       "      <td>1.00</td>\n",
       "      <td>0.00</td>\n",
       "    </tr>\n",
       "    <tr>\n",
       "      <th>20</th>\n",
       "      <td>2021-08-22T09:22:14+0000</td>\n",
       "      <td>كم سعر الدورة من فضلك؟</td>\n",
       "      <td>1898036200358038_1902128816615443</td>\n",
       "      <td>NaN</td>\n",
       "      <td>How much is the course, please?</td>\n",
       "      <td>F</td>\n",
       "      <td>neutral</td>\n",
       "      <td>0.03</td>\n",
       "      <td>0.96</td>\n",
       "      <td>0.01</td>\n",
       "    </tr>\n",
       "    <tr>\n",
       "      <th>21</th>\n",
       "      <td>2021-08-15T17:44:03+0000</td>\n",
       "      <td>Leen Elwaleed</td>\n",
       "      <td>1894442890717369_1896807990480859</td>\n",
       "      <td>NaN</td>\n",
       "      <td>Leen Elwaleed</td>\n",
       "      <td>T</td>\n",
       "      <td>neutral</td>\n",
       "      <td>0.00</td>\n",
       "      <td>1.00</td>\n",
       "      <td>0.00</td>\n",
       "    </tr>\n",
       "    <tr>\n",
       "      <th>22</th>\n",
       "      <td>2021-08-29T14:56:42+0000</td>\n",
       "      <td>Mostafa Moselhy</td>\n",
       "      <td>1894442890717369_1908111676017157</td>\n",
       "      <td>NaN</td>\n",
       "      <td>Mostafa Moselhy</td>\n",
       "      <td>T</td>\n",
       "      <td>neutral</td>\n",
       "      <td>0.00</td>\n",
       "      <td>1.00</td>\n",
       "      <td>0.00</td>\n",
       "    </tr>\n",
       "    <tr>\n",
       "      <th>23</th>\n",
       "      <td>2021-08-22T14:50:16+0000</td>\n",
       "      <td>Nice course and thanks for the good service ❤️</td>\n",
       "      <td>1894442890717369_1902326146595710</td>\n",
       "      <td>NaN</td>\n",
       "      <td>Nice course and thanks for the good service ❤️</td>\n",
       "      <td>F</td>\n",
       "      <td>positive</td>\n",
       "      <td>1.00</td>\n",
       "      <td>0.00</td>\n",
       "      <td>0.00</td>\n",
       "    </tr>\n",
       "    <tr>\n",
       "      <th>24</th>\n",
       "      <td>2021-08-25T00:14:14+0000</td>\n",
       "      <td>Waseela Khaled</td>\n",
       "      <td>1894442890717369_1904330309728627</td>\n",
       "      <td>NaN</td>\n",
       "      <td>Waseela Khaled</td>\n",
       "      <td>T</td>\n",
       "      <td>neutral</td>\n",
       "      <td>0.00</td>\n",
       "      <td>1.00</td>\n",
       "      <td>0.00</td>\n",
       "    </tr>\n",
       "  </tbody>\n",
       "</table>\n",
       "</div>"
      ],
      "text/plain": [
       "                created_time  \\\n",
       "0   2021-08-30T18:45:14+0000   \n",
       "1   2021-08-26T18:14:24+0000   \n",
       "2   2021-08-28T21:14:33+0000   \n",
       "3   2021-08-27T20:36:52+0000   \n",
       "4   2021-08-27T19:32:24+0000   \n",
       "5   2021-08-26T17:05:00+0000   \n",
       "6   2021-08-26T03:14:07+0000   \n",
       "7   2021-08-27T00:40:48+0000   \n",
       "8   2021-08-27T00:40:36+0000   \n",
       "9   2021-08-26T11:52:27+0000   \n",
       "10  2021-08-25T20:49:11+0000   \n",
       "11  2021-08-25T20:34:04+0000   \n",
       "12  2021-08-28T19:09:18+0000   \n",
       "13  2021-08-31T00:49:23+0000   \n",
       "14  2021-08-23T06:04:12+0000   \n",
       "15  2021-08-23T00:20:03+0000   \n",
       "16  2021-08-27T15:09:39+0000   \n",
       "17  2021-09-01T10:50:40+0000   \n",
       "18  2021-08-31T00:50:55+0000   \n",
       "19  2021-08-22T00:05:36+0000   \n",
       "20  2021-08-22T09:22:14+0000   \n",
       "21  2021-08-15T17:44:03+0000   \n",
       "22  2021-08-29T14:56:42+0000   \n",
       "23  2021-08-22T14:50:16+0000   \n",
       "24  2021-08-25T00:14:14+0000   \n",
       "\n",
       "                                              message  \\\n",
       "0   من فضلك عاوزة أسأل عن الكورس بتاع دكتور حنان ر...   \n",
       "1                            ممكن معلومات عن المسابقة   \n",
       "2                                             مبروووك   \n",
       "3   مشاركه حلوة وناس فوق الممتازه كانو في المسابقه...   \n",
       "4                                         ممكن تفاصيل   \n",
       "5                                          حاجة عظيمة   \n",
       "6                                 Dania Xina Mahariq    \n",
       "7                                         Sara Yassin   \n",
       "8                                           Eman Nour   \n",
       "9                                              تفاصيل   \n",
       "10                          Dina Ibrahim Abdel-rahman   \n",
       "11                             Mariam Wael\\nMai Wael    \n",
       "12                                  Tasnem El-sherif    \n",
       "13                                    رحاب عبدالعليم    \n",
       "14                                               بكام   \n",
       "15                               ازاي اعالج الديفوهات   \n",
       "16                                        Mai Mahmoud   \n",
       "17                               فكرة الكورس عظيمة. ❤   \n",
       "18            Shruq Tareq في كورسات حلوه هنا خدي لفه    \n",
       "19                                     Donia Mustafa    \n",
       "20                             كم سعر الدورة من فضلك؟   \n",
       "21                                     Leen Elwaleed    \n",
       "22                                    Mostafa Moselhy   \n",
       "23     Nice course and thanks for the good service ❤️   \n",
       "24                                    Waseela Khaled    \n",
       "\n",
       "                                   id from  \\\n",
       "0   1909076255920699_1909102692584722  NaN   \n",
       "1   1905738672921124_1905795872915404  NaN   \n",
       "2   1905738672921124_1907514736076851  NaN   \n",
       "3   1905738672921124_1906692159492442  NaN   \n",
       "4   1905738672921124_1906660966162228  NaN   \n",
       "5   1905738672921124_1905753419586316  NaN   \n",
       "6   1905016969659961_1905233889638269  NaN   \n",
       "7   1905016969659961_1905994712895520  NaN   \n",
       "8   1905016969659961_1905994639562194  NaN   \n",
       "9   1905016969659961_1905550172939974  NaN   \n",
       "10  1905016969659961_1905044186323906  NaN   \n",
       "11  1905016969659961_1905038372991154  NaN   \n",
       "12  1902281406600184_1907444256083899  NaN   \n",
       "13  1902281406600184_1909292222565769  NaN   \n",
       "14  1902281406600184_1902784989883159  NaN   \n",
       "15  1902281406600184_1902625193232472  NaN   \n",
       "16  1902281406600184_1906489052846086  NaN   \n",
       "17  1902281406600184_1910505589111099  NaN   \n",
       "18  1898036200358038_1909292852565706  NaN   \n",
       "19  1898036200358038_1901853749976283  NaN   \n",
       "20  1898036200358038_1902128816615443  NaN   \n",
       "21  1894442890717369_1896807990480859  NaN   \n",
       "22  1894442890717369_1908111676017157  NaN   \n",
       "23  1894442890717369_1902326146595710  NaN   \n",
       "24  1894442890717369_1904330309728627  NaN   \n",
       "\n",
       "                                            Translate is_human  sentment  \\\n",
       "0   Please, I want to ask about dr. Hanan Radwan's...        F   neutral   \n",
       "1            Can I get information about the contest?        F   neutral   \n",
       "2                                     Congratulations        F  positive   \n",
       "3   Nice participation and people above the excell...        F  positive   \n",
       "4                                  Can I have details        F   neutral   \n",
       "5                                         Great thing        F  positive   \n",
       "6                                 Dania Xina Mahariq         T   neutral   \n",
       "7                                         Sara Yassin        T   neutral   \n",
       "8                                           Eman Nour        T   neutral   \n",
       "9                                             Details        F   neutral   \n",
       "10                          Dina Ibrahim Abdel-rahman        T   neutral   \n",
       "11                             Mariam Wael\\nMai Wael         T   neutral   \n",
       "12                                  Tasnem El-sherif         T   neutral   \n",
       "13                                Rehab Abdul , Alim         F   neutral   \n",
       "14                                             Beccom        F   neutral   \n",
       "15                               For your al-Dafuhat.        F   neutral   \n",
       "16                                        Mai Mahmoud        T   neutral   \n",
       "17                 The idea of the course is great. ❤        F  positive   \n",
       "18            Shruq Tareq في كورسات حلوه هنا خدي لفه         T   neutral   \n",
       "19                                     Donia Mustafa         T   neutral   \n",
       "20                    How much is the course, please?        F   neutral   \n",
       "21                                     Leen Elwaleed         T   neutral   \n",
       "22                                    Mostafa Moselhy        T   neutral   \n",
       "23     Nice course and thanks for the good service ❤️        F  positive   \n",
       "24                                    Waseela Khaled         T   neutral   \n",
       "\n",
       "   positive neutral negative  \n",
       "0      0.05    0.92    0.03   \n",
       "1      0.01    0.98    0.01   \n",
       "2      0.57    0.39    0.04   \n",
       "3      1.00    0.00    0.00   \n",
       "4      0.01    0.98    0.01   \n",
       "5      1.00    0.00    0.00   \n",
       "6      0.00    1.00    0.00   \n",
       "7      0.00    1.00    0.00   \n",
       "8      0.00    1.00    0.00   \n",
       "9      0.13    0.82    0.05   \n",
       "10     0.00    1.00    0.00   \n",
       "11     0.00    1.00    0.00   \n",
       "12     0.00    1.00    0.00   \n",
       "13     0.06    0.89    0.05   \n",
       "14     0.13    0.81    0.06   \n",
       "15     0.04    0.95    0.01   \n",
       "16     0.00    1.00    0.00   \n",
       "17     1.00    0.00    0.00   \n",
       "18     0.00    1.00    0.00   \n",
       "19     0.00    1.00    0.00   \n",
       "20     0.03    0.96    0.01   \n",
       "21     0.00    1.00    0.00   \n",
       "22     0.00    1.00    0.00   \n",
       "23     1.00    0.00    0.00   \n",
       "24     0.00    1.00    0.00   "
      ]
     },
     "execution_count": 11,
     "metadata": {},
     "output_type": "execute_result"
    }
   ],
   "source": [
    "## merge 2 dataFrames into the index\n",
    "ndf = pd.merge(df, df1, left_index=True, right_index=True)\n",
    "ndf.head(25)"
   ]
  },
  {
   "cell_type": "markdown",
   "id": "a60f1464-87ee-4857-a065-39b1c2932073",
   "metadata": {
    "slideshow": {
     "slide_type": "skip"
    },
    "tags": []
   },
   "source": [
    "#### save dataframe to .csv file"
   ]
  },
  {
   "cell_type": "code",
   "execution_count": 12,
   "id": "6fbe901d-f668-4d1b-9919-ffda6b5a4244",
   "metadata": {},
   "outputs": [],
   "source": [
    "ndf.to_csv(\"con_DF\", index=False)"
   ]
  },
  {
   "cell_type": "code",
   "execution_count": null,
   "id": "b2a0cb65-13a6-4071-9b6f-7032cf1c1897",
   "metadata": {},
   "outputs": [],
   "source": []
  },
  {
   "cell_type": "markdown",
   "id": "3a499b97-2af8-4db4-901f-54a60924f438",
   "metadata": {
    "slideshow": {
     "slide_type": "skip"
    },
    "tags": []
   },
   "source": [
    "# read the data again"
   ]
  },
  {
   "cell_type": "code",
   "execution_count": 13,
   "id": "ed76bf19-6c93-444c-9cb6-0827967af604",
   "metadata": {
    "slideshow": {
     "slide_type": "skip"
    },
    "tags": []
   },
   "outputs": [],
   "source": [
    "ndf = pd.read_csv(\"con_DF\")"
   ]
  },
  {
   "cell_type": "markdown",
   "id": "fcd36829-817b-4b97-a474-8bd7a38cf04d",
   "metadata": {},
   "source": [
    "#### explore some data"
   ]
  },
  {
   "cell_type": "code",
   "execution_count": 14,
   "id": "177f9ea9-5bc8-44c9-b9bd-f66b1969160e",
   "metadata": {
    "slideshow": {
     "slide_type": "skip"
    },
    "tags": []
   },
   "outputs": [
    {
     "data": {
      "text/plain": [
       "0        2021-08\n",
       "1        2021-08\n",
       "2        2021-08\n",
       "3        2021-08\n",
       "4        2021-08\n",
       "          ...   \n",
       "15195    2020-04\n",
       "15196    2020-04\n",
       "15197    2020-04\n",
       "15198    2020-04\n",
       "15199    2020-04\n",
       "Name: created_time, Length: 15200, dtype: object"
      ]
     },
     "execution_count": 14,
     "metadata": {},
     "output_type": "execute_result"
    }
   ],
   "source": [
    "## extract date from created_time\n",
    "ndf[\"created_time\"] = ndf[\"created_time\"].str.slice(0, 7)\n",
    "ndf[\"created_time\"]"
   ]
  },
  {
   "cell_type": "code",
   "execution_count": 15,
   "id": "2bb6a4c3-aa60-4295-84a9-f4b139d056f4",
   "metadata": {
    "slideshow": {
     "slide_type": "skip"
    },
    "tags": []
   },
   "outputs": [
    {
     "data": {
      "text/plain": [
       "array(['F', 'T', 'N'], dtype=object)"
      ]
     },
     "execution_count": 15,
     "metadata": {},
     "output_type": "execute_result"
    }
   ],
   "source": [
    "ndf.is_human.unique()"
   ]
  },
  {
   "cell_type": "code",
   "execution_count": null,
   "id": "05dd2638-d288-4f1c-b52c-49e7e7bd05db",
   "metadata": {
    "slideshow": {
     "slide_type": "skip"
    },
    "tags": []
   },
   "outputs": [],
   "source": []
  },
  {
   "cell_type": "code",
   "execution_count": 16,
   "id": "33b511f1-1c72-4735-b8da-c516e670ebf6",
   "metadata": {
    "slideshow": {
     "slide_type": "skip"
    },
    "tags": []
   },
   "outputs": [
    {
     "data": {
      "text/html": [
       "<div>\n",
       "<style scoped>\n",
       "    .dataframe tbody tr th:only-of-type {\n",
       "        vertical-align: middle;\n",
       "    }\n",
       "\n",
       "    .dataframe tbody tr th {\n",
       "        vertical-align: top;\n",
       "    }\n",
       "\n",
       "    .dataframe thead th {\n",
       "        text-align: right;\n",
       "    }\n",
       "</style>\n",
       "<table border=\"1\" class=\"dataframe\">\n",
       "  <thead>\n",
       "    <tr style=\"text-align: right;\">\n",
       "      <th></th>\n",
       "      <th>created_time</th>\n",
       "      <th>message</th>\n",
       "      <th>id</th>\n",
       "      <th>from</th>\n",
       "      <th>Translate</th>\n",
       "      <th>is_human</th>\n",
       "      <th>sentment</th>\n",
       "      <th>positive</th>\n",
       "      <th>neutral</th>\n",
       "      <th>negative</th>\n",
       "    </tr>\n",
       "  </thead>\n",
       "  <tbody>\n",
       "    <tr>\n",
       "      <th>5137</th>\n",
       "      <td>2021-02</td>\n",
       "      <td>Soha Elsrogy \\nAbdallah Elsrogy</td>\n",
       "      <td>1751145495047110_1751201481708178</td>\n",
       "      <td>NaN</td>\n",
       "      <td>Never Elsrogy</td>\n",
       "      <td>N</td>\n",
       "      <td>negative</td>\n",
       "      <td>0.07</td>\n",
       "      <td>0.26</td>\n",
       "      <td>0.67</td>\n",
       "    </tr>\n",
       "    <tr>\n",
       "      <th>2663</th>\n",
       "      <td>2021-04</td>\n",
       "      <td>Kero Hero mesh 3arfa eh dah bs shoof</td>\n",
       "      <td>1768718659956460_1809417009219958</td>\n",
       "      <td>NaN</td>\n",
       "      <td>Kero Hero mesh 3arfa eh dah bs shoof</td>\n",
       "      <td>N</td>\n",
       "      <td>negative</td>\n",
       "      <td>0.02</td>\n",
       "      <td>0.12</td>\n",
       "      <td>0.86</td>\n",
       "    </tr>\n",
       "    <tr>\n",
       "      <th>680</th>\n",
       "      <td>2021-06</td>\n",
       "      <td>انا اشتريت دورتين ومش راضي يفتح بقالي اسبوع بك...</td>\n",
       "      <td>1834955673332758_1845647212263604</td>\n",
       "      <td>NaN</td>\n",
       "      <td>I bought two courses and I don't want to open ...</td>\n",
       "      <td>N</td>\n",
       "      <td>negative</td>\n",
       "      <td>0.00</td>\n",
       "      <td>0.00</td>\n",
       "      <td>1.00</td>\n",
       "    </tr>\n",
       "    <tr>\n",
       "      <th>1295</th>\n",
       "      <td>2021-04</td>\n",
       "      <td>انا دفعت من خلال فودافون كاش ومش بيكمل معايا و...</td>\n",
       "      <td>1809328525895473_1809609132534079</td>\n",
       "      <td>NaN</td>\n",
       "      <td>I paid through Vodafone Cash and it does not c...</td>\n",
       "      <td>N</td>\n",
       "      <td>negative</td>\n",
       "      <td>0.00</td>\n",
       "      <td>0.00</td>\n",
       "      <td>1.00</td>\n",
       "    </tr>\n",
       "    <tr>\n",
       "      <th>178</th>\n",
       "      <td>2021-07</td>\n",
       "      <td>مش ده العرض اللي كنا مستنينه</td>\n",
       "      <td>1871826116312380_1872170042944654</td>\n",
       "      <td>NaN</td>\n",
       "      <td>this is not the offer we were waiting for</td>\n",
       "      <td>N</td>\n",
       "      <td>negative</td>\n",
       "      <td>0.01</td>\n",
       "      <td>0.23</td>\n",
       "      <td>0.76</td>\n",
       "    </tr>\n",
       "    <tr>\n",
       "      <th>6924</th>\n",
       "      <td>2020-12</td>\n",
       "      <td>كيف استغل فرصة العمل من المنزل في تطوير نفسي ب...</td>\n",
       "      <td>152036353025392_152058173023210</td>\n",
       "      <td>NaN</td>\n",
       "      <td>How to take advantage of the opportunity to wo...</td>\n",
       "      <td>N</td>\n",
       "      <td>negative</td>\n",
       "      <td>0.00</td>\n",
       "      <td>0.00</td>\n",
       "      <td>1.00</td>\n",
       "    </tr>\n",
       "    <tr>\n",
       "      <th>4570</th>\n",
       "      <td>2021-02</td>\n",
       "      <td>يؤثر القائد على مرؤوسه لتحقيق هدف محدد ، في حي...</td>\n",
       "      <td>1754412824720377_1756008651227461</td>\n",
       "      <td>NaN</td>\n",
       "      <td>A leader influences his subordinate to achieve...</td>\n",
       "      <td>N</td>\n",
       "      <td>negative</td>\n",
       "      <td>0.01</td>\n",
       "      <td>0.04</td>\n",
       "      <td>0.95</td>\n",
       "    </tr>\n",
       "    <tr>\n",
       "      <th>12642</th>\n",
       "      <td>2020-06</td>\n",
       "      <td>Abdelaziz Said</td>\n",
       "      <td>1544898485671813_1544975068997488</td>\n",
       "      <td>NaN</td>\n",
       "      <td>Abdelaziz Said</td>\n",
       "      <td>N</td>\n",
       "      <td>negative</td>\n",
       "      <td>0.09</td>\n",
       "      <td>0.44</td>\n",
       "      <td>0.47</td>\n",
       "    </tr>\n",
       "    <tr>\n",
       "      <th>14214</th>\n",
       "      <td>2020-05</td>\n",
       "      <td>متتعبيش نفسك اللي من جواه من ناوي علي التغيير ...</td>\n",
       "      <td>1506687169492945_1506988362796159</td>\n",
       "      <td>NaN</td>\n",
       "      <td>Don't tire yourself, whoever is inside of him ...</td>\n",
       "      <td>N</td>\n",
       "      <td>negative</td>\n",
       "      <td>0.26</td>\n",
       "      <td>0.07</td>\n",
       "      <td>0.67</td>\n",
       "    </tr>\n",
       "    <tr>\n",
       "      <th>4483</th>\n",
       "      <td>2021-02</td>\n",
       "      <td>العند وعدم سماع الكلام</td>\n",
       "      <td>1755766847918308_1755829301245396</td>\n",
       "      <td>NaN</td>\n",
       "      <td>Being an anthree and not hearing the words</td>\n",
       "      <td>N</td>\n",
       "      <td>negative</td>\n",
       "      <td>0.01</td>\n",
       "      <td>0.07</td>\n",
       "      <td>0.92</td>\n",
       "    </tr>\n",
       "  </tbody>\n",
       "</table>\n",
       "</div>"
      ],
      "text/plain": [
       "      created_time                                            message  \\\n",
       "5137       2021-02                   Soha Elsrogy \\nAbdallah Elsrogy    \n",
       "2663       2021-04              Kero Hero mesh 3arfa eh dah bs shoof    \n",
       "680        2021-06  انا اشتريت دورتين ومش راضي يفتح بقالي اسبوع بك...   \n",
       "1295       2021-04  انا دفعت من خلال فودافون كاش ومش بيكمل معايا و...   \n",
       "178        2021-07                       مش ده العرض اللي كنا مستنينه   \n",
       "6924       2020-12  كيف استغل فرصة العمل من المنزل في تطوير نفسي ب...   \n",
       "4570       2021-02  يؤثر القائد على مرؤوسه لتحقيق هدف محدد ، في حي...   \n",
       "12642      2020-06                                     Abdelaziz Said   \n",
       "14214      2020-05  متتعبيش نفسك اللي من جواه من ناوي علي التغيير ...   \n",
       "4483       2021-02                             العند وعدم سماع الكلام   \n",
       "\n",
       "                                      id from  \\\n",
       "5137   1751145495047110_1751201481708178  NaN   \n",
       "2663   1768718659956460_1809417009219958  NaN   \n",
       "680    1834955673332758_1845647212263604  NaN   \n",
       "1295   1809328525895473_1809609132534079  NaN   \n",
       "178    1871826116312380_1872170042944654  NaN   \n",
       "6924     152036353025392_152058173023210  NaN   \n",
       "4570   1754412824720377_1756008651227461  NaN   \n",
       "12642  1544898485671813_1544975068997488  NaN   \n",
       "14214  1506687169492945_1506988362796159  NaN   \n",
       "4483   1755766847918308_1755829301245396  NaN   \n",
       "\n",
       "                                               Translate is_human  sentment  \\\n",
       "5137                                      Never Elsrogy         N  negative   \n",
       "2663               Kero Hero mesh 3arfa eh dah bs shoof         N  negative   \n",
       "680    I bought two courses and I don't want to open ...        N  negative   \n",
       "1295   I paid through Vodafone Cash and it does not c...        N  negative   \n",
       "178            this is not the offer we were waiting for        N  negative   \n",
       "6924   How to take advantage of the opportunity to wo...        N  negative   \n",
       "4570   A leader influences his subordinate to achieve...        N  negative   \n",
       "12642                                     Abdelaziz Said        N  negative   \n",
       "14214  Don't tire yourself, whoever is inside of him ...        N  negative   \n",
       "4483          Being an anthree and not hearing the words        N  negative   \n",
       "\n",
       "       positive  neutral  negative  \n",
       "5137       0.07     0.26      0.67  \n",
       "2663       0.02     0.12      0.86  \n",
       "680        0.00     0.00      1.00  \n",
       "1295       0.00     0.00      1.00  \n",
       "178        0.01     0.23      0.76  \n",
       "6924       0.00     0.00      1.00  \n",
       "4570       0.01     0.04      0.95  \n",
       "12642      0.09     0.44      0.47  \n",
       "14214      0.26     0.07      0.67  \n",
       "4483       0.01     0.07      0.92  "
      ]
     },
     "execution_count": 16,
     "metadata": {},
     "output_type": "execute_result"
    }
   ],
   "source": [
    "ndf.query('is_human ==\"N\" and sentment == \"negative\"').sample(10)"
   ]
  },
  {
   "cell_type": "code",
   "execution_count": null,
   "id": "0246227f-4588-4429-8261-1303f4f8c3cb",
   "metadata": {
    "slideshow": {
     "slide_type": "skip"
    },
    "tags": []
   },
   "outputs": [],
   "source": []
  },
  {
   "cell_type": "markdown",
   "id": "b71fe143-1549-4219-a600-1d1360673af9",
   "metadata": {
    "slideshow": {
     "slide_type": "skip"
    },
    "tags": []
   },
   "source": [
    "## explore and fix the data"
   ]
  },
  {
   "cell_type": "code",
   "execution_count": 17,
   "id": "8e7477c4-2e67-4fb1-b0ab-b8c0b5431bc3",
   "metadata": {
    "slideshow": {
     "slide_type": "skip"
    },
    "tags": []
   },
   "outputs": [],
   "source": [
    "## drop unused col\n",
    "ndf.drop(\"from\", axis=1, inplace = True)"
   ]
  },
  {
   "cell_type": "code",
   "execution_count": 18,
   "id": "d000072c-8dda-45f8-bd60-b52fc5b55ab3",
   "metadata": {
    "slideshow": {
     "slide_type": "skip"
    },
    "tags": []
   },
   "outputs": [
    {
     "name": "stdout",
     "output_type": "stream",
     "text": [
      "<class 'pandas.core.frame.DataFrame'>\n",
      "RangeIndex: 15200 entries, 0 to 15199\n",
      "Data columns (total 9 columns):\n",
      " #   Column        Non-Null Count  Dtype  \n",
      "---  ------        --------------  -----  \n",
      " 0   created_time  15200 non-null  object \n",
      " 1   message       15200 non-null  object \n",
      " 2   id            15200 non-null  object \n",
      " 3   Translate     15194 non-null  object \n",
      " 4   is_human      15200 non-null  object \n",
      " 5   sentment      15200 non-null  object \n",
      " 6   positive      15200 non-null  float64\n",
      " 7   neutral       15200 non-null  float64\n",
      " 8   negative      15200 non-null  float64\n",
      "dtypes: float64(3), object(6)\n",
      "memory usage: 1.0+ MB\n"
     ]
    }
   ],
   "source": [
    "ndf.info()"
   ]
  },
  {
   "cell_type": "code",
   "execution_count": 19,
   "id": "947d09a2-da3a-4906-8978-3c4a365d3f4d",
   "metadata": {
    "slideshow": {
     "slide_type": "skip"
    },
    "tags": []
   },
   "outputs": [
    {
     "name": "stdout",
     "output_type": "stream",
     "text": [
      "<class 'pandas.core.frame.DataFrame'>\n",
      "RangeIndex: 15200 entries, 0 to 15199\n",
      "Data columns (total 10 columns):\n",
      " #   Column        Non-Null Count  Dtype         \n",
      "---  ------        --------------  -----         \n",
      " 0   created_time  15200 non-null  datetime64[ns]\n",
      " 1   message       15200 non-null  object        \n",
      " 2   id            15200 non-null  object        \n",
      " 3   Translate     15194 non-null  object        \n",
      " 4   is_human      15200 non-null  object        \n",
      " 5   sentment      15200 non-null  object        \n",
      " 6   positive      15200 non-null  float64       \n",
      " 7   neutral       15200 non-null  float64       \n",
      " 8   negative      15200 non-null  float64       \n",
      " 9   date          15200 non-null  object        \n",
      "dtypes: datetime64[ns](1), float64(3), object(6)\n",
      "memory usage: 1.2+ MB\n"
     ]
    }
   ],
   "source": [
    "ndf[\"created_time\"] = ndf[\"created_time\"].str.slice(0, 7)\n",
    "ndf[\"created_time\"] = pd.to_datetime(ndf[\"created_time\"])\n",
    "ndf[\"date\"] = ndf[\"created_time\"].dt.date\n",
    "ndf.info()"
   ]
  },
  {
   "cell_type": "code",
   "execution_count": 20,
   "id": "59d5e10f-f996-4c1a-9d73-f9e22422b9ce",
   "metadata": {
    "slideshow": {
     "slide_type": "skip"
    },
    "tags": []
   },
   "outputs": [
    {
     "data": {
      "text/html": [
       "<div>\n",
       "<style scoped>\n",
       "    .dataframe tbody tr th:only-of-type {\n",
       "        vertical-align: middle;\n",
       "    }\n",
       "\n",
       "    .dataframe tbody tr th {\n",
       "        vertical-align: top;\n",
       "    }\n",
       "\n",
       "    .dataframe thead th {\n",
       "        text-align: right;\n",
       "    }\n",
       "</style>\n",
       "<table border=\"1\" class=\"dataframe\">\n",
       "  <thead>\n",
       "    <tr style=\"text-align: right;\">\n",
       "      <th></th>\n",
       "      <th>created_time</th>\n",
       "      <th>message</th>\n",
       "      <th>id</th>\n",
       "      <th>Translate</th>\n",
       "      <th>is_human</th>\n",
       "      <th>sentment</th>\n",
       "      <th>positive</th>\n",
       "      <th>neutral</th>\n",
       "      <th>negative</th>\n",
       "      <th>date</th>\n",
       "    </tr>\n",
       "  </thead>\n",
       "  <tbody>\n",
       "    <tr>\n",
       "      <th>17</th>\n",
       "      <td>2021-09-01</td>\n",
       "      <td>فكرة الكورس عظيمة. ❤</td>\n",
       "      <td>1902281406600184_1910505589111099</td>\n",
       "      <td>The idea of the course is great. ❤</td>\n",
       "      <td>F</td>\n",
       "      <td>positive</td>\n",
       "      <td>1.0</td>\n",
       "      <td>0.0</td>\n",
       "      <td>0.0</td>\n",
       "      <td>2021-09-01</td>\n",
       "    </tr>\n",
       "  </tbody>\n",
       "</table>\n",
       "</div>"
      ],
      "text/plain": [
       "   created_time               message                                 id  \\\n",
       "17   2021-09-01  فكرة الكورس عظيمة. ❤  1902281406600184_1910505589111099   \n",
       "\n",
       "                             Translate is_human  sentment  positive  neutral  \\\n",
       "17  The idea of the course is great. ❤        F  positive       1.0      0.0   \n",
       "\n",
       "    negative        date  \n",
       "17       0.0  2021-09-01  "
      ]
     },
     "execution_count": 20,
     "metadata": {},
     "output_type": "execute_result"
    }
   ],
   "source": [
    "ndf.query('date == datetime.date(2021, 9, 1)')"
   ]
  },
  {
   "cell_type": "code",
   "execution_count": 21,
   "id": "095608b8-437c-4bb2-924d-47a01038dc22",
   "metadata": {
    "slideshow": {
     "slide_type": "skip"
    },
    "tags": []
   },
   "outputs": [],
   "source": [
    "ndf.drop(index=17, inplace = True)"
   ]
  },
  {
   "cell_type": "code",
   "execution_count": 22,
   "id": "266e689d-9ba1-4b5d-8035-08b7b81f857e",
   "metadata": {
    "slideshow": {
     "slide_type": "skip"
    },
    "tags": []
   },
   "outputs": [],
   "source": [
    "ndf.reset_index(drop=True, inplace=True)"
   ]
  },
  {
   "cell_type": "code",
   "execution_count": 23,
   "id": "734f8d63-3211-45aa-92a4-08b0af0e24f9",
   "metadata": {
    "slideshow": {
     "slide_type": "skip"
    },
    "tags": []
   },
   "outputs": [
    {
     "data": {
      "text/plain": [
       "array(['neutral', 'positive', 'negative', 'mixed'], dtype=object)"
      ]
     },
     "execution_count": 23,
     "metadata": {},
     "output_type": "execute_result"
    }
   ],
   "source": [
    "ndf.sentment.unique()"
   ]
  },
  {
   "cell_type": "code",
   "execution_count": 24,
   "id": "ab627909-5e7a-4154-be7d-0e8a6b6cc0e6",
   "metadata": {
    "slideshow": {
     "slide_type": "skip"
    },
    "tags": []
   },
   "outputs": [],
   "source": [
    "## convert rate ti float\n",
    "ndf[\"positive\"] = ndf[\"positive\"].astype('float')\n",
    "ndf[\"neutral\"] = ndf[\"neutral\"].astype('float')\n",
    "ndf[\"negative\"] = ndf[\"negative\"].astype('float')"
   ]
  },
  {
   "cell_type": "code",
   "execution_count": 25,
   "id": "9d5c66e0-3237-46c5-a736-b3e8ceba1ccf",
   "metadata": {
    "slideshow": {
     "slide_type": "skip"
    },
    "tags": []
   },
   "outputs": [
    {
     "data": {
      "text/plain": [
       "count    15199.000000\n",
       "mean         0.199416\n",
       "std          0.329842\n",
       "min          0.000000\n",
       "25%          0.000000\n",
       "50%          0.030000\n",
       "75%          0.160000\n",
       "max          1.000000\n",
       "Name: positive, dtype: float64"
      ]
     },
     "execution_count": 25,
     "metadata": {},
     "output_type": "execute_result"
    }
   ],
   "source": [
    "## checking distripution of the rate\n",
    "ndf.positive.describe()"
   ]
  },
  {
   "cell_type": "code",
   "execution_count": 26,
   "id": "ca0e0aa1-00d4-4c22-b5cf-fd72b53af308",
   "metadata": {
    "slideshow": {
     "slide_type": "skip"
    },
    "tags": []
   },
   "outputs": [
    {
     "data": {
      "text/plain": [
       "count    15199.000000\n",
       "mean         0.087078\n",
       "std          0.226602\n",
       "min          0.000000\n",
       "25%          0.000000\n",
       "50%          0.010000\n",
       "75%          0.040000\n",
       "max          1.000000\n",
       "Name: negative, dtype: float64"
      ]
     },
     "execution_count": 26,
     "metadata": {},
     "output_type": "execute_result"
    }
   ],
   "source": [
    "ndf.negative.describe()"
   ]
  },
  {
   "cell_type": "code",
   "execution_count": 27,
   "id": "c58edb99-9f03-4892-9dd0-9b56682e7aa1",
   "metadata": {
    "slideshow": {
     "slide_type": "skip"
    },
    "tags": []
   },
   "outputs": [
    {
     "data": {
      "text/plain": [
       "(array([ 0,  1,  2,  3,  4,  5,  6,  7,  8,  9, 10, 11, 12, 13, 14, 15, 16]),\n",
       " [Text(0, 0, '2021-08-01'),\n",
       "  Text(1, 0, '2021-07-01'),\n",
       "  Text(2, 0, '2021-06-01'),\n",
       "  Text(3, 0, '2021-05-01'),\n",
       "  Text(4, 0, '2021-04-01'),\n",
       "  Text(5, 0, '2021-03-01'),\n",
       "  Text(6, 0, '2021-02-01'),\n",
       "  Text(7, 0, '2021-01-01'),\n",
       "  Text(8, 0, '2020-12-01'),\n",
       "  Text(9, 0, '2020-11-01'),\n",
       "  Text(10, 0, '2020-10-01'),\n",
       "  Text(11, 0, '2020-09-01'),\n",
       "  Text(12, 0, '2020-08-01'),\n",
       "  Text(13, 0, '2020-07-01'),\n",
       "  Text(14, 0, '2020-06-01'),\n",
       "  Text(15, 0, '2020-05-01'),\n",
       "  Text(16, 0, '2020-04-01')])"
      ]
     },
     "execution_count": 27,
     "metadata": {},
     "output_type": "execute_result"
    },
    {
     "data": {
      "image/png": "[encoded data removed]",
      "text/plain": [
       "<Figure size 1152x720 with 1 Axes>"
      ]
     },
     "metadata": {
      "needs_background": "light"
     },
     "output_type": "display_data"
    }
   ],
   "source": [
    "plot = plt.subplots(figsize = (16,10))\n",
    "plot = sns.countplot(data = ndf, x =\"date\",hue = \"sentment\", palette = 'Paired')\n",
    "plt.xticks(rotation=45)"
   ]
  },
  {
   "cell_type": "markdown",
   "id": "f780a503-d07c-4498-be51-b562ada5b01f",
   "metadata": {
    "slideshow": {
     "slide_type": "skip"
    },
    "tags": []
   },
   "source": [
    "## select non-human comments"
   ]
  },
  {
   "cell_type": "code",
   "execution_count": 28,
   "id": "ff0a52cd-74d9-41be-96f1-582189bb009a",
   "metadata": {
    "slideshow": {
     "slide_type": "skip"
    },
    "tags": []
   },
   "outputs": [
    {
     "name": "stdout",
     "output_type": "stream",
     "text": [
      "<class 'pandas.core.frame.DataFrame'>\n",
      "Int64Index: 10561 entries, 0 to 15198\n",
      "Data columns (total 10 columns):\n",
      " #   Column        Non-Null Count  Dtype         \n",
      "---  ------        --------------  -----         \n",
      " 0   created_time  10561 non-null  datetime64[ns]\n",
      " 1   message       10561 non-null  object        \n",
      " 2   id            10561 non-null  object        \n",
      " 3   Translate     10555 non-null  object        \n",
      " 4   is_human      10561 non-null  object        \n",
      " 5   sentment      10561 non-null  object        \n",
      " 6   positive      10561 non-null  float64       \n",
      " 7   neutral       10561 non-null  float64       \n",
      " 8   negative      10561 non-null  float64       \n",
      " 9   date          10561 non-null  object        \n",
      "dtypes: datetime64[ns](1), float64(3), object(6)\n",
      "memory usage: 907.6+ KB\n",
      "None\n"
     ]
    },
    {
     "data": {
      "text/html": [
       "<div>\n",
       "<style scoped>\n",
       "    .dataframe tbody tr th:only-of-type {\n",
       "        vertical-align: middle;\n",
       "    }\n",
       "\n",
       "    .dataframe tbody tr th {\n",
       "        vertical-align: top;\n",
       "    }\n",
       "\n",
       "    .dataframe thead th {\n",
       "        text-align: right;\n",
       "    }\n",
       "</style>\n",
       "<table border=\"1\" class=\"dataframe\">\n",
       "  <thead>\n",
       "    <tr style=\"text-align: right;\">\n",
       "      <th></th>\n",
       "      <th>created_time</th>\n",
       "      <th>message</th>\n",
       "      <th>id</th>\n",
       "      <th>Translate</th>\n",
       "      <th>is_human</th>\n",
       "      <th>sentment</th>\n",
       "      <th>positive</th>\n",
       "      <th>neutral</th>\n",
       "      <th>negative</th>\n",
       "      <th>date</th>\n",
       "    </tr>\n",
       "  </thead>\n",
       "  <tbody>\n",
       "    <tr>\n",
       "      <th>0</th>\n",
       "      <td>2021-08-01</td>\n",
       "      <td>من فضلك عاوزة أسأل عن الكورس بتاع دكتور حنان ر...</td>\n",
       "      <td>1909076255920699_1909102692584722</td>\n",
       "      <td>Please, I want to ask about dr. Hanan Radwan's...</td>\n",
       "      <td>F</td>\n",
       "      <td>neutral</td>\n",
       "      <td>0.05</td>\n",
       "      <td>0.92</td>\n",
       "      <td>0.03</td>\n",
       "      <td>2021-08-01</td>\n",
       "    </tr>\n",
       "    <tr>\n",
       "      <th>1</th>\n",
       "      <td>2021-08-01</td>\n",
       "      <td>ممكن معلومات عن المسابقة</td>\n",
       "      <td>1905738672921124_1905795872915404</td>\n",
       "      <td>Can I get information about the contest?</td>\n",
       "      <td>F</td>\n",
       "      <td>neutral</td>\n",
       "      <td>0.01</td>\n",
       "      <td>0.98</td>\n",
       "      <td>0.01</td>\n",
       "      <td>2021-08-01</td>\n",
       "    </tr>\n",
       "    <tr>\n",
       "      <th>2</th>\n",
       "      <td>2021-08-01</td>\n",
       "      <td>مبروووك</td>\n",
       "      <td>1905738672921124_1907514736076851</td>\n",
       "      <td>Congratulations</td>\n",
       "      <td>F</td>\n",
       "      <td>positive</td>\n",
       "      <td>0.57</td>\n",
       "      <td>0.39</td>\n",
       "      <td>0.04</td>\n",
       "      <td>2021-08-01</td>\n",
       "    </tr>\n",
       "    <tr>\n",
       "      <th>3</th>\n",
       "      <td>2021-08-01</td>\n",
       "      <td>مشاركه حلوة وناس فوق الممتازه كانو في المسابقه...</td>\n",
       "      <td>1905738672921124_1906692159492442</td>\n",
       "      <td>Nice participation and people above the excell...</td>\n",
       "      <td>F</td>\n",
       "      <td>positive</td>\n",
       "      <td>1.00</td>\n",
       "      <td>0.00</td>\n",
       "      <td>0.00</td>\n",
       "      <td>2021-08-01</td>\n",
       "    </tr>\n",
       "    <tr>\n",
       "      <th>4</th>\n",
       "      <td>2021-08-01</td>\n",
       "      <td>ممكن تفاصيل</td>\n",
       "      <td>1905738672921124_1906660966162228</td>\n",
       "      <td>Can I have details</td>\n",
       "      <td>F</td>\n",
       "      <td>neutral</td>\n",
       "      <td>0.01</td>\n",
       "      <td>0.98</td>\n",
       "      <td>0.01</td>\n",
       "      <td>2021-08-01</td>\n",
       "    </tr>\n",
       "  </tbody>\n",
       "</table>\n",
       "</div>"
      ],
      "text/plain": [
       "  created_time                                            message  \\\n",
       "0   2021-08-01  من فضلك عاوزة أسأل عن الكورس بتاع دكتور حنان ر...   \n",
       "1   2021-08-01                           ممكن معلومات عن المسابقة   \n",
       "2   2021-08-01                                            مبروووك   \n",
       "3   2021-08-01  مشاركه حلوة وناس فوق الممتازه كانو في المسابقه...   \n",
       "4   2021-08-01                                        ممكن تفاصيل   \n",
       "\n",
       "                                  id  \\\n",
       "0  1909076255920699_1909102692584722   \n",
       "1  1905738672921124_1905795872915404   \n",
       "2  1905738672921124_1907514736076851   \n",
       "3  1905738672921124_1906692159492442   \n",
       "4  1905738672921124_1906660966162228   \n",
       "\n",
       "                                           Translate is_human  sentment  \\\n",
       "0  Please, I want to ask about dr. Hanan Radwan's...        F   neutral   \n",
       "1           Can I get information about the contest?        F   neutral   \n",
       "2                                    Congratulations        F  positive   \n",
       "3  Nice participation and people above the excell...        F  positive   \n",
       "4                                 Can I have details        F   neutral   \n",
       "\n",
       "   positive  neutral  negative        date  \n",
       "0      0.05     0.92      0.03  2021-08-01  \n",
       "1      0.01     0.98      0.01  2021-08-01  \n",
       "2      0.57     0.39      0.04  2021-08-01  \n",
       "3      1.00     0.00      0.00  2021-08-01  \n",
       "4      0.01     0.98      0.01  2021-08-01  "
      ]
     },
     "execution_count": 28,
     "metadata": {},
     "output_type": "execute_result"
    }
   ],
   "source": [
    "## select not human data to explore\n",
    "info_df = ndf.query('is_human != \"T\"')\n",
    "print(info_df.info())\n",
    "info_df.head()"
   ]
  },
  {
   "cell_type": "code",
   "execution_count": 29,
   "id": "8b06c782-7a2c-4c58-afe2-20b2f90fc0c5",
   "metadata": {
    "slideshow": {
     "slide_type": "skip"
    },
    "tags": []
   },
   "outputs": [
    {
     "name": "stdout",
     "output_type": "stream",
     "text": [
      "<class 'pandas.core.frame.DataFrame'>\n",
      "RangeIndex: 3848 entries, 0 to 3847\n",
      "Data columns (total 10 columns):\n",
      " #   Column        Non-Null Count  Dtype         \n",
      "---  ------        --------------  -----         \n",
      " 0   created_time  3848 non-null   datetime64[ns]\n",
      " 1   message       3848 non-null   object        \n",
      " 2   id            3848 non-null   object        \n",
      " 3   Translate     3844 non-null   object        \n",
      " 4   is_human      3848 non-null   object        \n",
      " 5   sentment      3848 non-null   object        \n",
      " 6   positive      3848 non-null   float64       \n",
      " 7   neutral       3848 non-null   float64       \n",
      " 8   negative      3848 non-null   float64       \n",
      " 9   date          3848 non-null   object        \n",
      "dtypes: datetime64[ns](1), float64(3), object(6)\n",
      "memory usage: 300.8+ KB\n",
      "None\n"
     ]
    },
    {
     "data": {
      "text/html": [
       "<div>\n",
       "<style scoped>\n",
       "    .dataframe tbody tr th:only-of-type {\n",
       "        vertical-align: middle;\n",
       "    }\n",
       "\n",
       "    .dataframe tbody tr th {\n",
       "        vertical-align: top;\n",
       "    }\n",
       "\n",
       "    .dataframe thead th {\n",
       "        text-align: right;\n",
       "    }\n",
       "</style>\n",
       "<table border=\"1\" class=\"dataframe\">\n",
       "  <thead>\n",
       "    <tr style=\"text-align: right;\">\n",
       "      <th></th>\n",
       "      <th>created_time</th>\n",
       "      <th>message</th>\n",
       "      <th>id</th>\n",
       "      <th>Translate</th>\n",
       "      <th>is_human</th>\n",
       "      <th>sentment</th>\n",
       "      <th>positive</th>\n",
       "      <th>neutral</th>\n",
       "      <th>negative</th>\n",
       "      <th>date</th>\n",
       "    </tr>\n",
       "  </thead>\n",
       "  <tbody>\n",
       "    <tr>\n",
       "      <th>0</th>\n",
       "      <td>2021-08-01</td>\n",
       "      <td>مبروووك</td>\n",
       "      <td>1905738672921124_1907514736076851</td>\n",
       "      <td>Congratulations</td>\n",
       "      <td>F</td>\n",
       "      <td>positive</td>\n",
       "      <td>0.57</td>\n",
       "      <td>0.39</td>\n",
       "      <td>0.04</td>\n",
       "      <td>2021-08-01</td>\n",
       "    </tr>\n",
       "    <tr>\n",
       "      <th>1</th>\n",
       "      <td>2021-08-01</td>\n",
       "      <td>مشاركه حلوة وناس فوق الممتازه كانو في المسابقه...</td>\n",
       "      <td>1905738672921124_1906692159492442</td>\n",
       "      <td>Nice participation and people above the excell...</td>\n",
       "      <td>F</td>\n",
       "      <td>positive</td>\n",
       "      <td>1.00</td>\n",
       "      <td>0.00</td>\n",
       "      <td>0.00</td>\n",
       "      <td>2021-08-01</td>\n",
       "    </tr>\n",
       "    <tr>\n",
       "      <th>2</th>\n",
       "      <td>2021-08-01</td>\n",
       "      <td>حاجة عظيمة</td>\n",
       "      <td>1905738672921124_1905753419586316</td>\n",
       "      <td>Great thing</td>\n",
       "      <td>F</td>\n",
       "      <td>positive</td>\n",
       "      <td>1.00</td>\n",
       "      <td>0.00</td>\n",
       "      <td>0.00</td>\n",
       "      <td>2021-08-01</td>\n",
       "    </tr>\n",
       "    <tr>\n",
       "      <th>3</th>\n",
       "      <td>2021-08-01</td>\n",
       "      <td>Nice course and thanks for the good service ❤️</td>\n",
       "      <td>1894442890717369_1902326146595710</td>\n",
       "      <td>Nice course and thanks for the good service ❤️</td>\n",
       "      <td>F</td>\n",
       "      <td>positive</td>\n",
       "      <td>1.00</td>\n",
       "      <td>0.00</td>\n",
       "      <td>0.00</td>\n",
       "      <td>2021-08-01</td>\n",
       "    </tr>\n",
       "    <tr>\n",
       "      <th>4</th>\n",
       "      <td>2021-08-01</td>\n",
       "      <td>هل الكورس دة ينفع للاطفال سن ١١ سنه</td>\n",
       "      <td>1894442890717369_1897570790404579</td>\n",
       "      <td>Is this course suitable for 11-year-olds?</td>\n",
       "      <td>F</td>\n",
       "      <td>positive</td>\n",
       "      <td>0.70</td>\n",
       "      <td>0.28</td>\n",
       "      <td>0.02</td>\n",
       "      <td>2021-08-01</td>\n",
       "    </tr>\n",
       "  </tbody>\n",
       "</table>\n",
       "</div>"
      ],
      "text/plain": [
       "  created_time                                            message  \\\n",
       "0   2021-08-01                                            مبروووك   \n",
       "1   2021-08-01  مشاركه حلوة وناس فوق الممتازه كانو في المسابقه...   \n",
       "2   2021-08-01                                         حاجة عظيمة   \n",
       "3   2021-08-01     Nice course and thanks for the good service ❤️   \n",
       "4   2021-08-01                هل الكورس دة ينفع للاطفال سن ١١ سنه   \n",
       "\n",
       "                                  id  \\\n",
       "0  1905738672921124_1907514736076851   \n",
       "1  1905738672921124_1906692159492442   \n",
       "2  1905738672921124_1905753419586316   \n",
       "3  1894442890717369_1902326146595710   \n",
       "4  1894442890717369_1897570790404579   \n",
       "\n",
       "                                           Translate is_human  sentment  \\\n",
       "0                                    Congratulations        F  positive   \n",
       "1  Nice participation and people above the excell...        F  positive   \n",
       "2                                        Great thing        F  positive   \n",
       "3     Nice course and thanks for the good service ❤️        F  positive   \n",
       "4          Is this course suitable for 11-year-olds?        F  positive   \n",
       "\n",
       "   positive  neutral  negative        date  \n",
       "0      0.57     0.39      0.04  2021-08-01  \n",
       "1      1.00     0.00      0.00  2021-08-01  \n",
       "2      1.00     0.00      0.00  2021-08-01  \n",
       "3      1.00     0.00      0.00  2021-08-01  \n",
       "4      0.70     0.28      0.02  2021-08-01  "
      ]
     },
     "execution_count": 29,
     "metadata": {},
     "output_type": "execute_result"
    }
   ],
   "source": [
    "## select non natural comments\n",
    "info_df = ndf.query('neutral <0.5')\n",
    "info_df.reset_index(drop=True, inplace=True)\n",
    "print(info_df.info())\n",
    "info_df.head()"
   ]
  },
  {
   "cell_type": "code",
   "execution_count": 30,
   "id": "b65fd4b9-a957-4c87-a3b9-6311f56fa7c2",
   "metadata": {
    "slideshow": {
     "slide_type": "skip"
    },
    "tags": []
   },
   "outputs": [
    {
     "data": {
      "text/plain": [
       "count    3848.000000\n",
       "mean        0.633087\n",
       "std         0.399411\n",
       "min         0.000000\n",
       "25%         0.200000\n",
       "50%         0.830000\n",
       "75%         0.990000\n",
       "max         1.000000\n",
       "Name: positive, dtype: float64"
      ]
     },
     "execution_count": 30,
     "metadata": {},
     "output_type": "execute_result"
    }
   ],
   "source": [
    "info_df.positive.describe()"
   ]
  },
  {
   "cell_type": "code",
   "execution_count": 31,
   "id": "a4c6130a-549f-4f64-a4bc-f6773c4462e7",
   "metadata": {
    "slideshow": {
     "slide_type": "skip"
    },
    "tags": []
   },
   "outputs": [
    {
     "data": {
      "text/plain": [
       "count    3848.000000\n",
       "mean        0.272497\n",
       "std         0.388175\n",
       "min         0.000000\n",
       "25%         0.000000\n",
       "50%         0.030000\n",
       "75%         0.590000\n",
       "max         1.000000\n",
       "Name: negative, dtype: float64"
      ]
     },
     "execution_count": 31,
     "metadata": {},
     "output_type": "execute_result"
    }
   ],
   "source": [
    "info_df.negative.describe()"
   ]
  },
  {
   "cell_type": "markdown",
   "id": "036e5ea3-6203-4d53-8b6c-bbcd8167f76c",
   "metadata": {
    "slideshow": {
     "slide_type": "slide"
    },
    "tags": []
   },
   "source": [
    "## plot the average rate ber month"
   ]
  },
  {
   "cell_type": "code",
   "execution_count": 32,
   "id": "8193aad1-0d17-4b59-917d-a7bcb0bde336",
   "metadata": {
    "slideshow": {
     "slide_type": "subslide"
    },
    "tags": []
   },
   "outputs": [
    {
     "data": {
      "text/plain": [
       "Text(0, 0.5, 'value')"
      ]
     },
     "execution_count": 32,
     "metadata": {},
     "output_type": "execute_result"
    },
    {
     "data": {
      "image/png": "[encoded data removed]",
      "text/plain": [
       "<Figure size 1152x720 with 1 Axes>"
      ]
     },
     "metadata": {
      "needs_background": "light"
     },
     "output_type": "display_data"
    }
   ],
   "source": [
    "fig, plot = plt.subplots(figsize = (16,10))\n",
    "plot = sns.lineplot(data=info_df, x=\"created_time\", y=\"negative\", color = \"r\", alpha = 0.5)\n",
    "plot = sns.lineplot(data=info_df, x=\"created_time\", y=\"positive\", color = \"g\", alpha = 0.5)\n",
    "plt.title('rate ber month')\n",
    "plt.ylabel(\"value\")"
   ]
  },
  {
   "cell_type": "code",
   "execution_count": null,
   "id": "7306d384-ec7b-4f6b-b0d6-b9ee4c19976a",
   "metadata": {
    "slideshow": {
     "slide_type": "skip"
    },
    "tags": []
   },
   "outputs": [],
   "source": []
  },
  {
   "cell_type": "code",
   "execution_count": 33,
   "id": "db15c805-0c19-44c5-acf0-1a4cc39eaece",
   "metadata": {
    "slideshow": {
     "slide_type": "subslide"
    },
    "tags": []
   },
   "outputs": [
    {
     "data": {
      "text/plain": [
       "<matplotlib.collections.PathCollection at 0x2aaf6551c10>"
      ]
     },
     "execution_count": 33,
     "metadata": {},
     "output_type": "execute_result"
    },
    {
     "data": {
      "image/png": "[encoded data removed]",
      "text/plain": [
       "<Figure size 1152x720 with 1 Axes>"
      ]
     },
     "metadata": {
      "needs_background": "light"
     },
     "output_type": "display_data"
    }
   ],
   "source": [
    "fig, plot = plt.subplots(figsize = (16,10))\n",
    "plt.scatter(x = info_df[\"negative\"], y =info_df[\"positive\"] )"
   ]
  },
  {
   "cell_type": "markdown",
   "id": "8d04e0cb-416c-45b8-a69f-4ea090cfbb59",
   "metadata": {
    "slideshow": {
     "slide_type": "subslide"
    },
    "tags": []
   },
   "source": [
    "##### the corelation between positivity and negativity is linear :O "
   ]
  },
  {
   "cell_type": "markdown",
   "id": "83009c09-4193-4f63-b126-7b1f878dac0b",
   "metadata": {
    "slideshow": {
     "slide_type": "slide"
    },
    "tags": []
   },
   "source": [
    "#### lets check what happen in 5/2021"
   ]
  },
  {
   "cell_type": "code",
   "execution_count": 34,
   "id": "c0bf4dc3-ac4a-4568-82bb-db6027b268b8",
   "metadata": {
    "slideshow": {
     "slide_type": "subslide"
    },
    "tags": []
   },
   "outputs": [
    {
     "data": {
      "text/html": [
       "<div>\n",
       "<style scoped>\n",
       "    .dataframe tbody tr th:only-of-type {\n",
       "        vertical-align: middle;\n",
       "    }\n",
       "\n",
       "    .dataframe tbody tr th {\n",
       "        vertical-align: top;\n",
       "    }\n",
       "\n",
       "    .dataframe thead th {\n",
       "        text-align: right;\n",
       "    }\n",
       "</style>\n",
       "<table border=\"1\" class=\"dataframe\">\n",
       "  <thead>\n",
       "    <tr style=\"text-align: right;\">\n",
       "      <th></th>\n",
       "      <th>created_time</th>\n",
       "      <th>message</th>\n",
       "      <th>id</th>\n",
       "      <th>Translate</th>\n",
       "      <th>is_human</th>\n",
       "      <th>sentment</th>\n",
       "      <th>positive</th>\n",
       "      <th>neutral</th>\n",
       "      <th>negative</th>\n",
       "      <th>date</th>\n",
       "    </tr>\n",
       "  </thead>\n",
       "  <tbody>\n",
       "    <tr>\n",
       "      <th>222</th>\n",
       "      <td>2021-05-01</td>\n",
       "      <td>فيه مشكلة في الدفع من خلال فودافون كاش</td>\n",
       "      <td>1820433051451687_1821741567987502</td>\n",
       "      <td>There is a problem with payment through Vodafo...</td>\n",
       "      <td>F</td>\n",
       "      <td>negative</td>\n",
       "      <td>0.00</td>\n",
       "      <td>0.00</td>\n",
       "      <td>1.00</td>\n",
       "      <td>2021-05-01</td>\n",
       "    </tr>\n",
       "    <tr>\n",
       "      <th>209</th>\n",
       "      <td>2021-05-01</td>\n",
       "      <td>مفيش دورات تدريبية جديده للدكتور إيهاب فكري أو...</td>\n",
       "      <td>1820433051451687_1824598067701852</td>\n",
       "      <td>There are no new training courses for Dr. Ihab...</td>\n",
       "      <td>F</td>\n",
       "      <td>negative</td>\n",
       "      <td>0.02</td>\n",
       "      <td>0.34</td>\n",
       "      <td>0.64</td>\n",
       "      <td>2021-05-01</td>\n",
       "    </tr>\n",
       "    <tr>\n",
       "      <th>264</th>\n",
       "      <td>2021-05-01</td>\n",
       "      <td>#GazaUnderAttack\\n#أنقذوا_حي_الشيخ_جراح\\n#sav...</td>\n",
       "      <td>1820433051451687_1823618851133107</td>\n",
       "      <td>#GazaUnderAttack</td>\n",
       "      <td>F</td>\n",
       "      <td>negative</td>\n",
       "      <td>0.03</td>\n",
       "      <td>0.46</td>\n",
       "      <td>0.51</td>\n",
       "      <td>2021-05-01</td>\n",
       "    </tr>\n",
       "    <tr>\n",
       "      <th>284</th>\n",
       "      <td>2021-05-01</td>\n",
       "      <td>#GazaUnderAttack\\n\\n#savesheikhjarrah\\n\\n#Gaza...</td>\n",
       "      <td>1820433051451687_1822341751260817</td>\n",
       "      <td>#GazaUnderAttack</td>\n",
       "      <td>F</td>\n",
       "      <td>negative</td>\n",
       "      <td>0.04</td>\n",
       "      <td>0.22</td>\n",
       "      <td>0.74</td>\n",
       "      <td>2021-05-01</td>\n",
       "    </tr>\n",
       "    <tr>\n",
       "      <th>265</th>\n",
       "      <td>2021-05-01</td>\n",
       "      <td>#GazaUnderAttack\\n</td>\n",
       "      <td>1820433051451687_1823373774490948</td>\n",
       "      <td>#GazaUnderAttack</td>\n",
       "      <td>F</td>\n",
       "      <td>negative</td>\n",
       "      <td>0.03</td>\n",
       "      <td>0.14</td>\n",
       "      <td>0.83</td>\n",
       "      <td>2021-05-01</td>\n",
       "    </tr>\n",
       "    <tr>\n",
       "      <th>225</th>\n",
       "      <td>2021-05-01</td>\n",
       "      <td>أرجوكم لا تناموا الليلة، غزة تُجتاح. لا تناموا...</td>\n",
       "      <td>1820433051451687_1820979574730368</td>\n",
       "      <td>Please don't sleep tonight, Gaza is sweeping. ...</td>\n",
       "      <td>F</td>\n",
       "      <td>negative</td>\n",
       "      <td>0.03</td>\n",
       "      <td>0.15</td>\n",
       "      <td>0.82</td>\n",
       "      <td>2021-05-01</td>\n",
       "    </tr>\n",
       "    <tr>\n",
       "      <th>536</th>\n",
       "      <td>2021-05-01</td>\n",
       "      <td>انا اشترتها بس مش الشكل الجديد فهل ممكن تنزلي ...</td>\n",
       "      <td>1778872888941037_1826504830844509</td>\n",
       "      <td>I bought it but not the new look so can you do...</td>\n",
       "      <td>F</td>\n",
       "      <td>negative</td>\n",
       "      <td>0.00</td>\n",
       "      <td>0.08</td>\n",
       "      <td>0.92</td>\n",
       "      <td>2021-05-01</td>\n",
       "    </tr>\n",
       "    <tr>\n",
       "      <th>325</th>\n",
       "      <td>2021-05-01</td>\n",
       "      <td>زى كل سنه مش بتوضحو تم اختيار الفائزين بناء عل...</td>\n",
       "      <td>1815092468652412_1815413548620304</td>\n",
       "      <td>Like every year you don't explain, the winners...</td>\n",
       "      <td>F</td>\n",
       "      <td>negative</td>\n",
       "      <td>0.00</td>\n",
       "      <td>0.00</td>\n",
       "      <td>1.00</td>\n",
       "      <td>2021-05-01</td>\n",
       "    </tr>\n",
       "    <tr>\n",
       "      <th>330</th>\n",
       "      <td>2021-05-01</td>\n",
       "      <td>عايزه اسجل هنا ومش عارفه ممكن مساعده</td>\n",
       "      <td>1812815705546755_1822112344617091</td>\n",
       "      <td>i want to register here and i don't know can i...</td>\n",
       "      <td>F</td>\n",
       "      <td>negative</td>\n",
       "      <td>0.41</td>\n",
       "      <td>0.00</td>\n",
       "      <td>0.59</td>\n",
       "      <td>2021-05-01</td>\n",
       "    </tr>\n",
       "    <tr>\n",
       "      <th>234</th>\n",
       "      <td>2021-05-01</td>\n",
       "      <td>انسخوه بالعلم ياجماعه قبل ميحذفوه \\n\\n#GazaUnd...</td>\n",
       "      <td>1820433051451687_1823271601167832</td>\n",
       "      <td>Copy it with the flag people before they Delet...</td>\n",
       "      <td>F</td>\n",
       "      <td>negative</td>\n",
       "      <td>0.01</td>\n",
       "      <td>0.03</td>\n",
       "      <td>0.96</td>\n",
       "      <td>2021-05-01</td>\n",
       "    </tr>\n",
       "  </tbody>\n",
       "</table>\n",
       "</div>"
      ],
      "text/plain": [
       "    created_time                                            message  \\\n",
       "222   2021-05-01             فيه مشكلة في الدفع من خلال فودافون كاش   \n",
       "209   2021-05-01  مفيش دورات تدريبية جديده للدكتور إيهاب فكري أو...   \n",
       "264   2021-05-01  #GazaUnderAttack\\n#أنقذوا_حي_الشيخ_جراح\\n#sav...   \n",
       "284   2021-05-01  #GazaUnderAttack\\n\\n#savesheikhjarrah\\n\\n#Gaza...   \n",
       "265   2021-05-01                                 #GazaUnderAttack\\n   \n",
       "225   2021-05-01  أرجوكم لا تناموا الليلة، غزة تُجتاح. لا تناموا...   \n",
       "536   2021-05-01  انا اشترتها بس مش الشكل الجديد فهل ممكن تنزلي ...   \n",
       "325   2021-05-01  زى كل سنه مش بتوضحو تم اختيار الفائزين بناء عل...   \n",
       "330   2021-05-01               عايزه اسجل هنا ومش عارفه ممكن مساعده   \n",
       "234   2021-05-01  انسخوه بالعلم ياجماعه قبل ميحذفوه \\n\\n#GazaUnd...   \n",
       "\n",
       "                                    id  \\\n",
       "222  1820433051451687_1821741567987502   \n",
       "209  1820433051451687_1824598067701852   \n",
       "264  1820433051451687_1823618851133107   \n",
       "284  1820433051451687_1822341751260817   \n",
       "265  1820433051451687_1823373774490948   \n",
       "225  1820433051451687_1820979574730368   \n",
       "536  1778872888941037_1826504830844509   \n",
       "325  1815092468652412_1815413548620304   \n",
       "330  1812815705546755_1822112344617091   \n",
       "234  1820433051451687_1823271601167832   \n",
       "\n",
       "                                             Translate is_human  sentment  \\\n",
       "222  There is a problem with payment through Vodafo...        F  negative   \n",
       "209  There are no new training courses for Dr. Ihab...        F  negative   \n",
       "264                                   #GazaUnderAttack        F  negative   \n",
       "284                                   #GazaUnderAttack        F  negative   \n",
       "265                                   #GazaUnderAttack        F  negative   \n",
       "225  Please don't sleep tonight, Gaza is sweeping. ...        F  negative   \n",
       "536  I bought it but not the new look so can you do...        F  negative   \n",
       "325  Like every year you don't explain, the winners...        F  negative   \n",
       "330  i want to register here and i don't know can i...        F  negative   \n",
       "234  Copy it with the flag people before they Delet...        F  negative   \n",
       "\n",
       "     positive  neutral  negative        date  \n",
       "222      0.00     0.00      1.00  2021-05-01  \n",
       "209      0.02     0.34      0.64  2021-05-01  \n",
       "264      0.03     0.46      0.51  2021-05-01  \n",
       "284      0.04     0.22      0.74  2021-05-01  \n",
       "265      0.03     0.14      0.83  2021-05-01  \n",
       "225      0.03     0.15      0.82  2021-05-01  \n",
       "536      0.00     0.08      0.92  2021-05-01  \n",
       "325      0.00     0.00      1.00  2021-05-01  \n",
       "330      0.41     0.00      0.59  2021-05-01  \n",
       "234      0.01     0.03      0.96  2021-05-01  "
      ]
     },
     "execution_count": 34,
     "metadata": {},
     "output_type": "execute_result"
    }
   ],
   "source": [
    "negative_df = info_df.query('date == datetime.date(2021, 5, 1) and sentment == \"negative\"')\n",
    "negative_df.sample(10)"
   ]
  },
  {
   "cell_type": "markdown",
   "id": "46c04b78-9105-4e93-8aaf-4832c6c61495",
   "metadata": {
    "slideshow": {
     "slide_type": "subslide"
    },
    "tags": []
   },
   "source": [
    "#### more than 50% of comment about \"Gaza\" and considerd as negative"
   ]
  },
  {
   "cell_type": "code",
   "execution_count": 35,
   "id": "0ab06449-41a1-48fd-8301-49ab4d299a9a",
   "metadata": {},
   "outputs": [],
   "source": [
    "## extract \"Gaza commetns and fix the rate\""
   ]
  },
  {
   "cell_type": "code",
   "execution_count": 36,
   "id": "c6e906dc-923d-4729-8a2e-82acaa2a784d",
   "metadata": {},
   "outputs": [
    {
     "data": {
      "text/html": [
       "<div>\n",
       "<style scoped>\n",
       "    .dataframe tbody tr th:only-of-type {\n",
       "        vertical-align: middle;\n",
       "    }\n",
       "\n",
       "    .dataframe tbody tr th {\n",
       "        vertical-align: top;\n",
       "    }\n",
       "\n",
       "    .dataframe thead th {\n",
       "        text-align: right;\n",
       "    }\n",
       "</style>\n",
       "<table border=\"1\" class=\"dataframe\">\n",
       "  <thead>\n",
       "    <tr style=\"text-align: right;\">\n",
       "      <th></th>\n",
       "      <th>created_time</th>\n",
       "      <th>message</th>\n",
       "      <th>id</th>\n",
       "      <th>Translate</th>\n",
       "      <th>is_human</th>\n",
       "      <th>sentment</th>\n",
       "      <th>positive</th>\n",
       "      <th>neutral</th>\n",
       "      <th>negative</th>\n",
       "      <th>date</th>\n",
       "    </tr>\n",
       "  </thead>\n",
       "  <tbody>\n",
       "    <tr>\n",
       "      <th>203</th>\n",
       "      <td>2021-05-01</td>\n",
       "      <td>أرجوكم لا تناموا الليلة، غزة تُجتاح. لا تناموا...</td>\n",
       "      <td>1820433051451687_1820979488063710</td>\n",
       "      <td>Please don't sleep tonight, Gaza is sweeping. ...</td>\n",
       "      <td>F</td>\n",
       "      <td>negative</td>\n",
       "      <td>0.03</td>\n",
       "      <td>0.15</td>\n",
       "      <td>0.82</td>\n",
       "      <td>2021-05-01</td>\n",
       "    </tr>\n",
       "    <tr>\n",
       "      <th>216</th>\n",
       "      <td>2021-05-01</td>\n",
       "      <td>انسخوه بالعلم ياجماعه قبل ميحذفوه \\n\\n#GazaUnd...</td>\n",
       "      <td>1820433051451687_1823951477766511</td>\n",
       "      <td>Copy it with the flag people before they Delet...</td>\n",
       "      <td>F</td>\n",
       "      <td>negative</td>\n",
       "      <td>0.01</td>\n",
       "      <td>0.03</td>\n",
       "      <td>0.96</td>\n",
       "      <td>2021-05-01</td>\n",
       "    </tr>\n",
       "    <tr>\n",
       "      <th>219</th>\n",
       "      <td>2021-05-01</td>\n",
       "      <td>انسخوه بالعلم قبل ميحذفوه \\n\\n#GazaUnderAttack...</td>\n",
       "      <td>1820433051451687_1822570237904635</td>\n",
       "      <td>Copy it with the flag before they Delete it</td>\n",
       "      <td>F</td>\n",
       "      <td>negative</td>\n",
       "      <td>0.01</td>\n",
       "      <td>0.03</td>\n",
       "      <td>0.96</td>\n",
       "      <td>2021-05-01</td>\n",
       "    </tr>\n",
       "    <tr>\n",
       "      <th>224</th>\n",
       "      <td>2021-05-01</td>\n",
       "      <td>أرجوكم لا تناموا الليلة، غزة تُجتاح. لا تناموا...</td>\n",
       "      <td>1820433051451687_1820979601397032</td>\n",
       "      <td>Please don't sleep tonight, Gaza is sweeping. ...</td>\n",
       "      <td>F</td>\n",
       "      <td>negative</td>\n",
       "      <td>0.03</td>\n",
       "      <td>0.15</td>\n",
       "      <td>0.82</td>\n",
       "      <td>2021-05-01</td>\n",
       "    </tr>\n",
       "    <tr>\n",
       "      <th>225</th>\n",
       "      <td>2021-05-01</td>\n",
       "      <td>أرجوكم لا تناموا الليلة، غزة تُجتاح. لا تناموا...</td>\n",
       "      <td>1820433051451687_1820979574730368</td>\n",
       "      <td>Please don't sleep tonight, Gaza is sweeping. ...</td>\n",
       "      <td>F</td>\n",
       "      <td>negative</td>\n",
       "      <td>0.03</td>\n",
       "      <td>0.15</td>\n",
       "      <td>0.82</td>\n",
       "      <td>2021-05-01</td>\n",
       "    </tr>\n",
       "    <tr>\n",
       "      <th>...</th>\n",
       "      <td>...</td>\n",
       "      <td>...</td>\n",
       "      <td>...</td>\n",
       "      <td>...</td>\n",
       "      <td>...</td>\n",
       "      <td>...</td>\n",
       "      <td>...</td>\n",
       "      <td>...</td>\n",
       "      <td>...</td>\n",
       "      <td>...</td>\n",
       "    </tr>\n",
       "    <tr>\n",
       "      <th>627</th>\n",
       "      <td>2021-05-01</td>\n",
       "      <td>#From_morocco🇲🇦🇵🇸\\n#GazaUnderAttack</td>\n",
       "      <td>1778872888941037_1826008574227468</td>\n",
       "      <td>#From_morocco🇲🇦🇵🇸</td>\n",
       "      <td>F</td>\n",
       "      <td>negative</td>\n",
       "      <td>0.02</td>\n",
       "      <td>0.33</td>\n",
       "      <td>0.65</td>\n",
       "      <td>2021-05-01</td>\n",
       "    </tr>\n",
       "    <tr>\n",
       "      <th>628</th>\n",
       "      <td>2021-05-01</td>\n",
       "      <td>#IsraeliTerrorism\\n\\n#GazaUnderAttack\\n\\n#WeSt...</td>\n",
       "      <td>1778872888941037_1826008537560805</td>\n",
       "      <td>#IsraeliTerrorism</td>\n",
       "      <td>F</td>\n",
       "      <td>negative</td>\n",
       "      <td>0.01</td>\n",
       "      <td>0.03</td>\n",
       "      <td>0.96</td>\n",
       "      <td>2021-05-01</td>\n",
       "    </tr>\n",
       "    <tr>\n",
       "      <th>630</th>\n",
       "      <td>2021-05-01</td>\n",
       "      <td>🇵🇸✌️🇲🇦\\n#GazaUnderAttack \\n#savesheikhjarrah</td>\n",
       "      <td>1778872888941037_1825482867613372</td>\n",
       "      <td>🇵🇸✌️🇲🇦</td>\n",
       "      <td>F</td>\n",
       "      <td>negative</td>\n",
       "      <td>0.05</td>\n",
       "      <td>0.08</td>\n",
       "      <td>0.87</td>\n",
       "      <td>2021-05-01</td>\n",
       "    </tr>\n",
       "    <tr>\n",
       "      <th>631</th>\n",
       "      <td>2021-05-01</td>\n",
       "      <td>🇵🇸✌️🇲🇦\\n#GazaUnderAttack \\n#savesheikhjarrah</td>\n",
       "      <td>1778872888941037_1825482844280041</td>\n",
       "      <td>🇵🇸✌️🇲🇦</td>\n",
       "      <td>F</td>\n",
       "      <td>negative</td>\n",
       "      <td>0.05</td>\n",
       "      <td>0.08</td>\n",
       "      <td>0.87</td>\n",
       "      <td>2021-05-01</td>\n",
       "    </tr>\n",
       "    <tr>\n",
       "      <th>632</th>\n",
       "      <td>2021-05-01</td>\n",
       "      <td>#GazaUnderAttack</td>\n",
       "      <td>1778872888941037_1825322200962772</td>\n",
       "      <td>#GazaUnderAttack</td>\n",
       "      <td>F</td>\n",
       "      <td>negative</td>\n",
       "      <td>0.03</td>\n",
       "      <td>0.14</td>\n",
       "      <td>0.83</td>\n",
       "      <td>2021-05-01</td>\n",
       "    </tr>\n",
       "  </tbody>\n",
       "</table>\n",
       "<p>75 rows × 10 columns</p>\n",
       "</div>"
      ],
      "text/plain": [
       "    created_time                                            message  \\\n",
       "203   2021-05-01  أرجوكم لا تناموا الليلة، غزة تُجتاح. لا تناموا...   \n",
       "216   2021-05-01  انسخوه بالعلم ياجماعه قبل ميحذفوه \\n\\n#GazaUnd...   \n",
       "219   2021-05-01  انسخوه بالعلم قبل ميحذفوه \\n\\n#GazaUnderAttack...   \n",
       "224   2021-05-01  أرجوكم لا تناموا الليلة، غزة تُجتاح. لا تناموا...   \n",
       "225   2021-05-01  أرجوكم لا تناموا الليلة، غزة تُجتاح. لا تناموا...   \n",
       "..           ...                                                ...   \n",
       "627   2021-05-01                #From_morocco🇲🇦🇵🇸\\n#GazaUnderAttack   \n",
       "628   2021-05-01  #IsraeliTerrorism\\n\\n#GazaUnderAttack\\n\\n#WeSt...   \n",
       "630   2021-05-01       🇵🇸✌️🇲🇦\\n#GazaUnderAttack \\n#savesheikhjarrah   \n",
       "631   2021-05-01       🇵🇸✌️🇲🇦\\n#GazaUnderAttack \\n#savesheikhjarrah   \n",
       "632   2021-05-01                                   #GazaUnderAttack   \n",
       "\n",
       "                                    id  \\\n",
       "203  1820433051451687_1820979488063710   \n",
       "216  1820433051451687_1823951477766511   \n",
       "219  1820433051451687_1822570237904635   \n",
       "224  1820433051451687_1820979601397032   \n",
       "225  1820433051451687_1820979574730368   \n",
       "..                                 ...   \n",
       "627  1778872888941037_1826008574227468   \n",
       "628  1778872888941037_1826008537560805   \n",
       "630  1778872888941037_1825482867613372   \n",
       "631  1778872888941037_1825482844280041   \n",
       "632  1778872888941037_1825322200962772   \n",
       "\n",
       "                                             Translate is_human  sentment  \\\n",
       "203  Please don't sleep tonight, Gaza is sweeping. ...        F  negative   \n",
       "216  Copy it with the flag people before they Delet...        F  negative   \n",
       "219       Copy it with the flag before they Delete it         F  negative   \n",
       "224  Please don't sleep tonight, Gaza is sweeping. ...        F  negative   \n",
       "225  Please don't sleep tonight, Gaza is sweeping. ...        F  negative   \n",
       "..                                                 ...      ...       ...   \n",
       "627                                  #From_morocco🇲🇦🇵🇸        F  negative   \n",
       "628                                  #IsraeliTerrorism        F  negative   \n",
       "630                                             🇵🇸✌️🇲🇦        F  negative   \n",
       "631                                             🇵🇸✌️🇲🇦        F  negative   \n",
       "632                                   #GazaUnderAttack        F  negative   \n",
       "\n",
       "     positive  neutral  negative        date  \n",
       "203      0.03     0.15      0.82  2021-05-01  \n",
       "216      0.01     0.03      0.96  2021-05-01  \n",
       "219      0.01     0.03      0.96  2021-05-01  \n",
       "224      0.03     0.15      0.82  2021-05-01  \n",
       "225      0.03     0.15      0.82  2021-05-01  \n",
       "..        ...      ...       ...         ...  \n",
       "627      0.02     0.33      0.65  2021-05-01  \n",
       "628      0.01     0.03      0.96  2021-05-01  \n",
       "630      0.05     0.08      0.87  2021-05-01  \n",
       "631      0.05     0.08      0.87  2021-05-01  \n",
       "632      0.03     0.14      0.83  2021-05-01  \n",
       "\n",
       "[75 rows x 10 columns]"
      ]
     },
     "execution_count": 36,
     "metadata": {},
     "output_type": "execute_result"
    }
   ],
   "source": [
    "negative_df = negative_df[negative_df[\"message\"].str.find(\"#GazaUnderAttack\")!= -1]\n",
    "negative_df"
   ]
  },
  {
   "cell_type": "markdown",
   "id": "dc7b4395-e25c-490c-94cf-5ef779d6b1c0",
   "metadata": {},
   "source": [
    "###### replace old and new values"
   ]
  },
  {
   "cell_type": "code",
   "execution_count": 37,
   "id": "5c249dda-4f3f-49f9-90e9-576c5c66f8ec",
   "metadata": {},
   "outputs": [],
   "source": [
    "n_negative = negative_df[\"positive\"].copy()\n",
    "n_positive =  negative_df[\"negative\"].copy()"
   ]
  },
  {
   "cell_type": "code",
   "execution_count": 38,
   "id": "ec427da6-6a3c-404d-b575-daca1a6ae985",
   "metadata": {
    "slideshow": {
     "slide_type": "skip"
    },
    "tags": []
   },
   "outputs": [
    {
     "data": {
      "text/html": [
       "<div>\n",
       "<style scoped>\n",
       "    .dataframe tbody tr th:only-of-type {\n",
       "        vertical-align: middle;\n",
       "    }\n",
       "\n",
       "    .dataframe tbody tr th {\n",
       "        vertical-align: top;\n",
       "    }\n",
       "\n",
       "    .dataframe thead th {\n",
       "        text-align: right;\n",
       "    }\n",
       "</style>\n",
       "<table border=\"1\" class=\"dataframe\">\n",
       "  <thead>\n",
       "    <tr style=\"text-align: right;\">\n",
       "      <th></th>\n",
       "      <th>created_time</th>\n",
       "      <th>message</th>\n",
       "      <th>id</th>\n",
       "      <th>Translate</th>\n",
       "      <th>is_human</th>\n",
       "      <th>sentment</th>\n",
       "      <th>positive</th>\n",
       "      <th>neutral</th>\n",
       "      <th>negative</th>\n",
       "      <th>date</th>\n",
       "    </tr>\n",
       "  </thead>\n",
       "  <tbody>\n",
       "    <tr>\n",
       "      <th>203</th>\n",
       "      <td>2021-05-01</td>\n",
       "      <td>أرجوكم لا تناموا الليلة، غزة تُجتاح. لا تناموا...</td>\n",
       "      <td>1820433051451687_1820979488063710</td>\n",
       "      <td>Please don't sleep tonight, Gaza is sweeping. ...</td>\n",
       "      <td>F</td>\n",
       "      <td>positive</td>\n",
       "      <td>0.82</td>\n",
       "      <td>0.15</td>\n",
       "      <td>0.03</td>\n",
       "      <td>2021-05-01</td>\n",
       "    </tr>\n",
       "    <tr>\n",
       "      <th>216</th>\n",
       "      <td>2021-05-01</td>\n",
       "      <td>انسخوه بالعلم ياجماعه قبل ميحذفوه \\n\\n#GazaUnd...</td>\n",
       "      <td>1820433051451687_1823951477766511</td>\n",
       "      <td>Copy it with the flag people before they Delet...</td>\n",
       "      <td>F</td>\n",
       "      <td>positive</td>\n",
       "      <td>0.96</td>\n",
       "      <td>0.03</td>\n",
       "      <td>0.01</td>\n",
       "      <td>2021-05-01</td>\n",
       "    </tr>\n",
       "    <tr>\n",
       "      <th>219</th>\n",
       "      <td>2021-05-01</td>\n",
       "      <td>انسخوه بالعلم قبل ميحذفوه \\n\\n#GazaUnderAttack...</td>\n",
       "      <td>1820433051451687_1822570237904635</td>\n",
       "      <td>Copy it with the flag before they Delete it</td>\n",
       "      <td>F</td>\n",
       "      <td>positive</td>\n",
       "      <td>0.96</td>\n",
       "      <td>0.03</td>\n",
       "      <td>0.01</td>\n",
       "      <td>2021-05-01</td>\n",
       "    </tr>\n",
       "    <tr>\n",
       "      <th>224</th>\n",
       "      <td>2021-05-01</td>\n",
       "      <td>أرجوكم لا تناموا الليلة، غزة تُجتاح. لا تناموا...</td>\n",
       "      <td>1820433051451687_1820979601397032</td>\n",
       "      <td>Please don't sleep tonight, Gaza is sweeping. ...</td>\n",
       "      <td>F</td>\n",
       "      <td>positive</td>\n",
       "      <td>0.82</td>\n",
       "      <td>0.15</td>\n",
       "      <td>0.03</td>\n",
       "      <td>2021-05-01</td>\n",
       "    </tr>\n",
       "    <tr>\n",
       "      <th>225</th>\n",
       "      <td>2021-05-01</td>\n",
       "      <td>أرجوكم لا تناموا الليلة، غزة تُجتاح. لا تناموا...</td>\n",
       "      <td>1820433051451687_1820979574730368</td>\n",
       "      <td>Please don't sleep tonight, Gaza is sweeping. ...</td>\n",
       "      <td>F</td>\n",
       "      <td>positive</td>\n",
       "      <td>0.82</td>\n",
       "      <td>0.15</td>\n",
       "      <td>0.03</td>\n",
       "      <td>2021-05-01</td>\n",
       "    </tr>\n",
       "    <tr>\n",
       "      <th>...</th>\n",
       "      <td>...</td>\n",
       "      <td>...</td>\n",
       "      <td>...</td>\n",
       "      <td>...</td>\n",
       "      <td>...</td>\n",
       "      <td>...</td>\n",
       "      <td>...</td>\n",
       "      <td>...</td>\n",
       "      <td>...</td>\n",
       "      <td>...</td>\n",
       "    </tr>\n",
       "    <tr>\n",
       "      <th>627</th>\n",
       "      <td>2021-05-01</td>\n",
       "      <td>#From_morocco🇲🇦🇵🇸\\n#GazaUnderAttack</td>\n",
       "      <td>1778872888941037_1826008574227468</td>\n",
       "      <td>#From_morocco🇲🇦🇵🇸</td>\n",
       "      <td>F</td>\n",
       "      <td>positive</td>\n",
       "      <td>0.65</td>\n",
       "      <td>0.33</td>\n",
       "      <td>0.02</td>\n",
       "      <td>2021-05-01</td>\n",
       "    </tr>\n",
       "    <tr>\n",
       "      <th>628</th>\n",
       "      <td>2021-05-01</td>\n",
       "      <td>#IsraeliTerrorism\\n\\n#GazaUnderAttack\\n\\n#WeSt...</td>\n",
       "      <td>1778872888941037_1826008537560805</td>\n",
       "      <td>#IsraeliTerrorism</td>\n",
       "      <td>F</td>\n",
       "      <td>positive</td>\n",
       "      <td>0.96</td>\n",
       "      <td>0.03</td>\n",
       "      <td>0.01</td>\n",
       "      <td>2021-05-01</td>\n",
       "    </tr>\n",
       "    <tr>\n",
       "      <th>630</th>\n",
       "      <td>2021-05-01</td>\n",
       "      <td>🇵🇸✌️🇲🇦\\n#GazaUnderAttack \\n#savesheikhjarrah</td>\n",
       "      <td>1778872888941037_1825482867613372</td>\n",
       "      <td>🇵🇸✌️🇲🇦</td>\n",
       "      <td>F</td>\n",
       "      <td>positive</td>\n",
       "      <td>0.87</td>\n",
       "      <td>0.08</td>\n",
       "      <td>0.05</td>\n",
       "      <td>2021-05-01</td>\n",
       "    </tr>\n",
       "    <tr>\n",
       "      <th>631</th>\n",
       "      <td>2021-05-01</td>\n",
       "      <td>🇵🇸✌️🇲🇦\\n#GazaUnderAttack \\n#savesheikhjarrah</td>\n",
       "      <td>1778872888941037_1825482844280041</td>\n",
       "      <td>🇵🇸✌️🇲🇦</td>\n",
       "      <td>F</td>\n",
       "      <td>positive</td>\n",
       "      <td>0.87</td>\n",
       "      <td>0.08</td>\n",
       "      <td>0.05</td>\n",
       "      <td>2021-05-01</td>\n",
       "    </tr>\n",
       "    <tr>\n",
       "      <th>632</th>\n",
       "      <td>2021-05-01</td>\n",
       "      <td>#GazaUnderAttack</td>\n",
       "      <td>1778872888941037_1825322200962772</td>\n",
       "      <td>#GazaUnderAttack</td>\n",
       "      <td>F</td>\n",
       "      <td>positive</td>\n",
       "      <td>0.83</td>\n",
       "      <td>0.14</td>\n",
       "      <td>0.03</td>\n",
       "      <td>2021-05-01</td>\n",
       "    </tr>\n",
       "  </tbody>\n",
       "</table>\n",
       "<p>75 rows × 10 columns</p>\n",
       "</div>"
      ],
      "text/plain": [
       "    created_time                                            message  \\\n",
       "203   2021-05-01  أرجوكم لا تناموا الليلة، غزة تُجتاح. لا تناموا...   \n",
       "216   2021-05-01  انسخوه بالعلم ياجماعه قبل ميحذفوه \\n\\n#GazaUnd...   \n",
       "219   2021-05-01  انسخوه بالعلم قبل ميحذفوه \\n\\n#GazaUnderAttack...   \n",
       "224   2021-05-01  أرجوكم لا تناموا الليلة، غزة تُجتاح. لا تناموا...   \n",
       "225   2021-05-01  أرجوكم لا تناموا الليلة، غزة تُجتاح. لا تناموا...   \n",
       "..           ...                                                ...   \n",
       "627   2021-05-01                #From_morocco🇲🇦🇵🇸\\n#GazaUnderAttack   \n",
       "628   2021-05-01  #IsraeliTerrorism\\n\\n#GazaUnderAttack\\n\\n#WeSt...   \n",
       "630   2021-05-01       🇵🇸✌️🇲🇦\\n#GazaUnderAttack \\n#savesheikhjarrah   \n",
       "631   2021-05-01       🇵🇸✌️🇲🇦\\n#GazaUnderAttack \\n#savesheikhjarrah   \n",
       "632   2021-05-01                                   #GazaUnderAttack   \n",
       "\n",
       "                                    id  \\\n",
       "203  1820433051451687_1820979488063710   \n",
       "216  1820433051451687_1823951477766511   \n",
       "219  1820433051451687_1822570237904635   \n",
       "224  1820433051451687_1820979601397032   \n",
       "225  1820433051451687_1820979574730368   \n",
       "..                                 ...   \n",
       "627  1778872888941037_1826008574227468   \n",
       "628  1778872888941037_1826008537560805   \n",
       "630  1778872888941037_1825482867613372   \n",
       "631  1778872888941037_1825482844280041   \n",
       "632  1778872888941037_1825322200962772   \n",
       "\n",
       "                                             Translate is_human  sentment  \\\n",
       "203  Please don't sleep tonight, Gaza is sweeping. ...        F  positive   \n",
       "216  Copy it with the flag people before they Delet...        F  positive   \n",
       "219       Copy it with the flag before they Delete it         F  positive   \n",
       "224  Please don't sleep tonight, Gaza is sweeping. ...        F  positive   \n",
       "225  Please don't sleep tonight, Gaza is sweeping. ...        F  positive   \n",
       "..                                                 ...      ...       ...   \n",
       "627                                  #From_morocco🇲🇦🇵🇸        F  positive   \n",
       "628                                  #IsraeliTerrorism        F  positive   \n",
       "630                                             🇵🇸✌️🇲🇦        F  positive   \n",
       "631                                             🇵🇸✌️🇲🇦        F  positive   \n",
       "632                                   #GazaUnderAttack        F  positive   \n",
       "\n",
       "     positive  neutral  negative        date  \n",
       "203      0.82     0.15      0.03  2021-05-01  \n",
       "216      0.96     0.03      0.01  2021-05-01  \n",
       "219      0.96     0.03      0.01  2021-05-01  \n",
       "224      0.82     0.15      0.03  2021-05-01  \n",
       "225      0.82     0.15      0.03  2021-05-01  \n",
       "..        ...      ...       ...         ...  \n",
       "627      0.65     0.33      0.02  2021-05-01  \n",
       "628      0.96     0.03      0.01  2021-05-01  \n",
       "630      0.87     0.08      0.05  2021-05-01  \n",
       "631      0.87     0.08      0.05  2021-05-01  \n",
       "632      0.83     0.14      0.03  2021-05-01  \n",
       "\n",
       "[75 rows x 10 columns]"
      ]
     },
     "execution_count": 38,
     "metadata": {},
     "output_type": "execute_result"
    }
   ],
   "source": [
    "negative_df[\"negative\"] = n_negative\n",
    "negative_df[\"positive\"] = n_positive\n",
    "negative_df[\"sentment\"] = \"positive\"\n",
    "negative_df"
   ]
  },
  {
   "cell_type": "code",
   "execution_count": null,
   "id": "16211e39-0f60-4770-9c94-5ab2cec60d66",
   "metadata": {},
   "outputs": [],
   "source": []
  },
  {
   "cell_type": "markdown",
   "id": "fdd7c6bd-1e17-4504-93c9-a0237fbd5611",
   "metadata": {
    "tags": []
   },
   "source": [
    "#### add new values in the orignal DF"
   ]
  },
  {
   "cell_type": "code",
   "execution_count": 39,
   "id": "68a54812-96c0-42ac-a303-793524b5949b",
   "metadata": {},
   "outputs": [
    {
     "name": "stderr",
     "output_type": "stream",
     "text": [
      "c:\\users\\20812018100700\\appdata\\local\\programs\\python\\python39\\lib\\site-packages\\pandas\\core\\indexing.py:1884: SettingWithCopyWarning: \n",
      "A value is trying to be set on a copy of a slice from a DataFrame.\n",
      "Try using .loc[row_indexer,col_indexer] = value instead\n",
      "\n",
      "See the caveats in the documentation: https://pandas.pydata.org/pandas-docs/stable/user_guide/indexing.html#returning-a-view-versus-a-copy\n",
      "  self._setitem_single_column(loc, val, pi)\n"
     ]
    },
    {
     "data": {
      "text/html": [
       "<div>\n",
       "<style scoped>\n",
       "    .dataframe tbody tr th:only-of-type {\n",
       "        vertical-align: middle;\n",
       "    }\n",
       "\n",
       "    .dataframe tbody tr th {\n",
       "        vertical-align: top;\n",
       "    }\n",
       "\n",
       "    .dataframe thead th {\n",
       "        text-align: right;\n",
       "    }\n",
       "</style>\n",
       "<table border=\"1\" class=\"dataframe\">\n",
       "  <thead>\n",
       "    <tr style=\"text-align: right;\">\n",
       "      <th></th>\n",
       "      <th>created_time</th>\n",
       "      <th>message</th>\n",
       "      <th>id</th>\n",
       "      <th>Translate</th>\n",
       "      <th>is_human</th>\n",
       "      <th>sentment</th>\n",
       "      <th>positive</th>\n",
       "      <th>neutral</th>\n",
       "      <th>negative</th>\n",
       "      <th>date</th>\n",
       "    </tr>\n",
       "  </thead>\n",
       "  <tbody>\n",
       "    <tr>\n",
       "      <th>203</th>\n",
       "      <td>2021-05-01</td>\n",
       "      <td>أرجوكم لا تناموا الليلة، غزة تُجتاح. لا تناموا...</td>\n",
       "      <td>1820433051451687_1820979488063710</td>\n",
       "      <td>Please don't sleep tonight, Gaza is sweeping. ...</td>\n",
       "      <td>F</td>\n",
       "      <td>positive</td>\n",
       "      <td>0.82</td>\n",
       "      <td>0.15</td>\n",
       "      <td>0.03</td>\n",
       "      <td>2021-05-01</td>\n",
       "    </tr>\n",
       "    <tr>\n",
       "      <th>216</th>\n",
       "      <td>2021-05-01</td>\n",
       "      <td>انسخوه بالعلم ياجماعه قبل ميحذفوه \\n\\n#GazaUnd...</td>\n",
       "      <td>1820433051451687_1823951477766511</td>\n",
       "      <td>Copy it with the flag people before they Delet...</td>\n",
       "      <td>F</td>\n",
       "      <td>positive</td>\n",
       "      <td>0.96</td>\n",
       "      <td>0.03</td>\n",
       "      <td>0.01</td>\n",
       "      <td>2021-05-01</td>\n",
       "    </tr>\n",
       "    <tr>\n",
       "      <th>219</th>\n",
       "      <td>2021-05-01</td>\n",
       "      <td>انسخوه بالعلم قبل ميحذفوه \\n\\n#GazaUnderAttack...</td>\n",
       "      <td>1820433051451687_1822570237904635</td>\n",
       "      <td>Copy it with the flag before they Delete it</td>\n",
       "      <td>F</td>\n",
       "      <td>positive</td>\n",
       "      <td>0.96</td>\n",
       "      <td>0.03</td>\n",
       "      <td>0.01</td>\n",
       "      <td>2021-05-01</td>\n",
       "    </tr>\n",
       "    <tr>\n",
       "      <th>224</th>\n",
       "      <td>2021-05-01</td>\n",
       "      <td>أرجوكم لا تناموا الليلة، غزة تُجتاح. لا تناموا...</td>\n",
       "      <td>1820433051451687_1820979601397032</td>\n",
       "      <td>Please don't sleep tonight, Gaza is sweeping. ...</td>\n",
       "      <td>F</td>\n",
       "      <td>positive</td>\n",
       "      <td>0.82</td>\n",
       "      <td>0.15</td>\n",
       "      <td>0.03</td>\n",
       "      <td>2021-05-01</td>\n",
       "    </tr>\n",
       "    <tr>\n",
       "      <th>225</th>\n",
       "      <td>2021-05-01</td>\n",
       "      <td>أرجوكم لا تناموا الليلة، غزة تُجتاح. لا تناموا...</td>\n",
       "      <td>1820433051451687_1820979574730368</td>\n",
       "      <td>Please don't sleep tonight, Gaza is sweeping. ...</td>\n",
       "      <td>F</td>\n",
       "      <td>positive</td>\n",
       "      <td>0.82</td>\n",
       "      <td>0.15</td>\n",
       "      <td>0.03</td>\n",
       "      <td>2021-05-01</td>\n",
       "    </tr>\n",
       "    <tr>\n",
       "      <th>...</th>\n",
       "      <td>...</td>\n",
       "      <td>...</td>\n",
       "      <td>...</td>\n",
       "      <td>...</td>\n",
       "      <td>...</td>\n",
       "      <td>...</td>\n",
       "      <td>...</td>\n",
       "      <td>...</td>\n",
       "      <td>...</td>\n",
       "      <td>...</td>\n",
       "    </tr>\n",
       "    <tr>\n",
       "      <th>627</th>\n",
       "      <td>2021-05-01</td>\n",
       "      <td>#From_morocco🇲🇦🇵🇸\\n#GazaUnderAttack</td>\n",
       "      <td>1778872888941037_1826008574227468</td>\n",
       "      <td>#From_morocco🇲🇦🇵🇸</td>\n",
       "      <td>F</td>\n",
       "      <td>positive</td>\n",
       "      <td>0.65</td>\n",
       "      <td>0.33</td>\n",
       "      <td>0.02</td>\n",
       "      <td>2021-05-01</td>\n",
       "    </tr>\n",
       "    <tr>\n",
       "      <th>628</th>\n",
       "      <td>2021-05-01</td>\n",
       "      <td>#IsraeliTerrorism\\n\\n#GazaUnderAttack\\n\\n#WeSt...</td>\n",
       "      <td>1778872888941037_1826008537560805</td>\n",
       "      <td>#IsraeliTerrorism</td>\n",
       "      <td>F</td>\n",
       "      <td>positive</td>\n",
       "      <td>0.96</td>\n",
       "      <td>0.03</td>\n",
       "      <td>0.01</td>\n",
       "      <td>2021-05-01</td>\n",
       "    </tr>\n",
       "    <tr>\n",
       "      <th>630</th>\n",
       "      <td>2021-05-01</td>\n",
       "      <td>🇵🇸✌️🇲🇦\\n#GazaUnderAttack \\n#savesheikhjarrah</td>\n",
       "      <td>1778872888941037_1825482867613372</td>\n",
       "      <td>🇵🇸✌️🇲🇦</td>\n",
       "      <td>F</td>\n",
       "      <td>positive</td>\n",
       "      <td>0.87</td>\n",
       "      <td>0.08</td>\n",
       "      <td>0.05</td>\n",
       "      <td>2021-05-01</td>\n",
       "    </tr>\n",
       "    <tr>\n",
       "      <th>631</th>\n",
       "      <td>2021-05-01</td>\n",
       "      <td>🇵🇸✌️🇲🇦\\n#GazaUnderAttack \\n#savesheikhjarrah</td>\n",
       "      <td>1778872888941037_1825482844280041</td>\n",
       "      <td>🇵🇸✌️🇲🇦</td>\n",
       "      <td>F</td>\n",
       "      <td>positive</td>\n",
       "      <td>0.87</td>\n",
       "      <td>0.08</td>\n",
       "      <td>0.05</td>\n",
       "      <td>2021-05-01</td>\n",
       "    </tr>\n",
       "    <tr>\n",
       "      <th>632</th>\n",
       "      <td>2021-05-01</td>\n",
       "      <td>#GazaUnderAttack</td>\n",
       "      <td>1778872888941037_1825322200962772</td>\n",
       "      <td>#GazaUnderAttack</td>\n",
       "      <td>F</td>\n",
       "      <td>positive</td>\n",
       "      <td>0.83</td>\n",
       "      <td>0.14</td>\n",
       "      <td>0.03</td>\n",
       "      <td>2021-05-01</td>\n",
       "    </tr>\n",
       "  </tbody>\n",
       "</table>\n",
       "<p>75 rows × 10 columns</p>\n",
       "</div>"
      ],
      "text/plain": [
       "    created_time                                            message  \\\n",
       "203   2021-05-01  أرجوكم لا تناموا الليلة، غزة تُجتاح. لا تناموا...   \n",
       "216   2021-05-01  انسخوه بالعلم ياجماعه قبل ميحذفوه \\n\\n#GazaUnd...   \n",
       "219   2021-05-01  انسخوه بالعلم قبل ميحذفوه \\n\\n#GazaUnderAttack...   \n",
       "224   2021-05-01  أرجوكم لا تناموا الليلة، غزة تُجتاح. لا تناموا...   \n",
       "225   2021-05-01  أرجوكم لا تناموا الليلة، غزة تُجتاح. لا تناموا...   \n",
       "..           ...                                                ...   \n",
       "627   2021-05-01                #From_morocco🇲🇦🇵🇸\\n#GazaUnderAttack   \n",
       "628   2021-05-01  #IsraeliTerrorism\\n\\n#GazaUnderAttack\\n\\n#WeSt...   \n",
       "630   2021-05-01       🇵🇸✌️🇲🇦\\n#GazaUnderAttack \\n#savesheikhjarrah   \n",
       "631   2021-05-01       🇵🇸✌️🇲🇦\\n#GazaUnderAttack \\n#savesheikhjarrah   \n",
       "632   2021-05-01                                   #GazaUnderAttack   \n",
       "\n",
       "                                    id  \\\n",
       "203  1820433051451687_1820979488063710   \n",
       "216  1820433051451687_1823951477766511   \n",
       "219  1820433051451687_1822570237904635   \n",
       "224  1820433051451687_1820979601397032   \n",
       "225  1820433051451687_1820979574730368   \n",
       "..                                 ...   \n",
       "627  1778872888941037_1826008574227468   \n",
       "628  1778872888941037_1826008537560805   \n",
       "630  1778872888941037_1825482867613372   \n",
       "631  1778872888941037_1825482844280041   \n",
       "632  1778872888941037_1825322200962772   \n",
       "\n",
       "                                             Translate is_human  sentment  \\\n",
       "203  Please don't sleep tonight, Gaza is sweeping. ...        F  positive   \n",
       "216  Copy it with the flag people before they Delet...        F  positive   \n",
       "219       Copy it with the flag before they Delete it         F  positive   \n",
       "224  Please don't sleep tonight, Gaza is sweeping. ...        F  positive   \n",
       "225  Please don't sleep tonight, Gaza is sweeping. ...        F  positive   \n",
       "..                                                 ...      ...       ...   \n",
       "627                                  #From_morocco🇲🇦🇵🇸        F  positive   \n",
       "628                                  #IsraeliTerrorism        F  positive   \n",
       "630                                             🇵🇸✌️🇲🇦        F  positive   \n",
       "631                                             🇵🇸✌️🇲🇦        F  positive   \n",
       "632                                   #GazaUnderAttack        F  positive   \n",
       "\n",
       "     positive  neutral  negative        date  \n",
       "203      0.82     0.15      0.03  2021-05-01  \n",
       "216      0.96     0.03      0.01  2021-05-01  \n",
       "219      0.96     0.03      0.01  2021-05-01  \n",
       "224      0.82     0.15      0.03  2021-05-01  \n",
       "225      0.82     0.15      0.03  2021-05-01  \n",
       "..        ...      ...       ...         ...  \n",
       "627      0.65     0.33      0.02  2021-05-01  \n",
       "628      0.96     0.03      0.01  2021-05-01  \n",
       "630      0.87     0.08      0.05  2021-05-01  \n",
       "631      0.87     0.08      0.05  2021-05-01  \n",
       "632      0.83     0.14      0.03  2021-05-01  \n",
       "\n",
       "[75 rows x 10 columns]"
      ]
     },
     "execution_count": 39,
     "metadata": {},
     "output_type": "execute_result"
    }
   ],
   "source": [
    "info_df.loc[negative_df.index, :] = negative_df.copy()\n",
    "info_df.loc[negative_df.index, :]"
   ]
  },
  {
   "cell_type": "markdown",
   "id": "d820396b-e43b-4db7-91f1-f088e51727ea",
   "metadata": {
    "slideshow": {
     "slide_type": "slide"
    },
    "tags": []
   },
   "source": [
    "# replot after correction"
   ]
  },
  {
   "cell_type": "markdown",
   "id": "8c62bbe0-ee2a-4425-8ee3-9a1ac086fd02",
   "metadata": {
    "slideshow": {
     "slide_type": "slide"
    },
    "tags": []
   },
   "source": [
    "## average rate ber month "
   ]
  },
  {
   "cell_type": "code",
   "execution_count": 40,
   "id": "cb7e51b9-327f-4357-bec8-efc68129614d",
   "metadata": {
    "slideshow": {
     "slide_type": "subslide"
    },
    "tags": []
   },
   "outputs": [
    {
     "data": {
      "image/png": "[encoded data removed]",
      "text/plain": [
       "<Figure size 1152x720 with 1 Axes>"
      ]
     },
     "metadata": {
      "needs_background": "light"
     },
     "output_type": "display_data"
    }
   ],
   "source": [
    "fig, plot = plt.subplots(figsize = (16,10))\n",
    "plot = sns.lineplot(data=info_df, x=\"created_time\", y=\"negative\", color = \"r\", alpha = 0.5)\n",
    "plot = sns.lineplot(data=info_df, x=\"created_time\", y=\"positive\", color = \"g\", alpha = 0.5)\n",
    "_ = plt.title('rate ber month')\n",
    "_ = plt.ylabel(\"value\")"
   ]
  },
  {
   "cell_type": "code",
   "execution_count": null,
   "id": "71f8c674-e5ef-45cd-9de7-4ad05720a407",
   "metadata": {},
   "outputs": [],
   "source": []
  },
  {
   "cell_type": "markdown",
   "id": "959f2998-79b0-45b5-85ac-07bab76206bf",
   "metadata": {
    "slideshow": {
     "slide_type": "slide"
    },
    "tags": []
   },
   "source": [
    "# check distripution of rate"
   ]
  },
  {
   "cell_type": "markdown",
   "id": "1ef12718-289b-4dc5-964f-2f464e531cd0",
   "metadata": {
    "slideshow": {
     "slide_type": "slide"
    },
    "tags": []
   },
   "source": [
    "## Distribution of positive rate"
   ]
  },
  {
   "cell_type": "code",
   "execution_count": 41,
   "id": "22748fbc-f8f7-45fa-8027-df46efb15d9b",
   "metadata": {
    "slideshow": {
     "slide_type": "subslide"
    },
    "tags": []
   },
   "outputs": [
    {
     "name": "stderr",
     "output_type": "stream",
     "text": [
      "c:\\users\\20812018100700\\appdata\\local\\programs\\python\\python39\\lib\\site-packages\\seaborn\\distributions.py:2619: FutureWarning: `distplot` is a deprecated function and will be removed in a future version. Please adapt your code to use either `displot` (a figure-level function with similar flexibility) or `kdeplot` (an axes-level function for kernel density plots).\n",
      "  warnings.warn(msg, FutureWarning)\n"
     ]
    },
    {
     "data": {
      "image/png": "[encoded data removed]",
      "text/plain": [
       "<Figure size 792x720 with 1 Axes>"
      ]
     },
     "metadata": {
      "needs_background": "light"
     },
     "output_type": "display_data"
    }
   ],
   "source": [
    "fig, plot = plt.subplots(figsize = (11,10))\n",
    "sns.distplot(x=info_df[\"positive\"], hist = False )\n",
    "_ = plt.title('positive rate distripution')"
   ]
  },
  {
   "cell_type": "markdown",
   "id": "a2edf0e8-207b-4686-8f24-d3c39da90168",
   "metadata": {
    "slideshow": {
     "slide_type": "slide"
    },
    "tags": []
   },
   "source": [
    "## Distribution of negative rate"
   ]
  },
  {
   "cell_type": "code",
   "execution_count": 42,
   "id": "79b6eca9-1e93-441d-a67e-bc164121caa8",
   "metadata": {
    "slideshow": {
     "slide_type": "subslide"
    },
    "tags": []
   },
   "outputs": [
    {
     "name": "stderr",
     "output_type": "stream",
     "text": [
      "c:\\users\\20812018100700\\appdata\\local\\programs\\python\\python39\\lib\\site-packages\\seaborn\\distributions.py:2619: FutureWarning: `distplot` is a deprecated function and will be removed in a future version. Please adapt your code to use either `displot` (a figure-level function with similar flexibility) or `kdeplot` (an axes-level function for kernel density plots).\n",
      "  warnings.warn(msg, FutureWarning)\n"
     ]
    },
    {
     "data": {
      "image/png": "[encoded data removed]",
      "text/plain": [
       "<Figure size 792x720 with 1 Axes>"
      ]
     },
     "metadata": {
      "needs_background": "light"
     },
     "output_type": "display_data"
    }
   ],
   "source": [
    "fig, plot = plt.subplots(figsize = (11,10))\n",
    "plot = sns.distplot(x=info_df[\"negative\"],hist =False )"
   ]
  },
  {
   "cell_type": "code",
   "execution_count": 43,
   "id": "260fbcb0-cce3-4c4b-939e-5a7ea4ac591d",
   "metadata": {
    "slideshow": {
     "slide_type": "skip"
    },
    "tags": []
   },
   "outputs": [
    {
     "data": {
      "text/plain": [
       "array(['F', 'N'], dtype=object)"
      ]
     },
     "execution_count": 43,
     "metadata": {},
     "output_type": "execute_result"
    }
   ],
   "source": [
    "info_df.is_human.unique()"
   ]
  },
  {
   "cell_type": "code",
   "execution_count": 44,
   "id": "73916ba6-355b-4c00-a1dc-b211949d13d4",
   "metadata": {
    "slideshow": {
     "slide_type": "skip"
    },
    "tags": []
   },
   "outputs": [
    {
     "data": {
      "image/png": "[encoded data removed]",
      "text/plain": [
       "<Figure size 432x288 with 1 Axes>"
      ]
     },
     "metadata": {},
     "output_type": "display_data"
    }
   ],
   "source": [
    "plt.pie(ndf.is_human.value_counts(), labels = ndf.is_human.unique(),\n",
    "        startangle = 90, counterclock = False, wedgeprops = {'width' : 0.4});"
   ]
  },
  {
   "cell_type": "code",
   "execution_count": 45,
   "id": "df8d4fda-3e7c-4ea5-8266-5e98b5fa8d78",
   "metadata": {
    "slideshow": {
     "slide_type": "skip"
    },
    "tags": []
   },
   "outputs": [
    {
     "data": {
      "image/png": "[encoded data removed]",
      "text/plain": [
       "<Figure size 432x288 with 1 Axes>"
      ]
     },
     "metadata": {},
     "output_type": "display_data"
    }
   ],
   "source": [
    "plt.pie(info_df.sentment.value_counts(), labels = info_df.sentment.unique(),\n",
    "        startangle = 90, counterclock = False, wedgeprops = {'width' : 0.4});"
   ]
  },
  {
   "cell_type": "code",
   "execution_count": 46,
   "id": "52f3c1fb-91e9-4469-9d8d-f5c881c31673",
   "metadata": {
    "slideshow": {
     "slide_type": "skip"
    },
    "tags": []
   },
   "outputs": [],
   "source": [
    "colors = sns.color_palette()"
   ]
  },
  {
   "cell_type": "markdown",
   "id": "b662c305-29c7-4e5c-972e-ac0142eee80c",
   "metadata": {
    "slideshow": {
     "slide_type": "slide"
    },
    "tags": []
   },
   "source": [
    "## average satisfaction ber month"
   ]
  },
  {
   "cell_type": "code",
   "execution_count": 47,
   "id": "ce0f26e3-a572-49f3-a333-f2381a0f9066",
   "metadata": {
    "slideshow": {
     "slide_type": "subslide"
    },
    "tags": []
   },
   "outputs": [
    {
     "data": {
      "image/png": "[encoded data removed]",
      "text/plain": [
       "<Figure size 936x576 with 1 Axes>"
      ]
     },
     "metadata": {
      "needs_background": "light"
     },
     "output_type": "display_data"
    }
   ],
   "source": [
    "plot = plt.subplots(figsize = (13,8))\n",
    "plot = sns.barplot(data = info_df, x =\"date\",  y=\"positive\", color = colors[-1], alpha = 0.5)\n",
    "plot = sns.barplot(data = info_df, x =\"date\",  y=\"negative\", color = colors[1], alpha = 0.5)\n",
    "_ = plt.xticks(rotation=45)"
   ]
  },
  {
   "cell_type": "markdown",
   "id": "f5ae5e4d-62c0-4dc3-a3a9-0c9d36feac04",
   "metadata": {
    "slideshow": {
     "slide_type": "slide"
    },
    "tags": []
   },
   "source": [
    "## Distribution of satisfaction ber month"
   ]
  },
  {
   "cell_type": "code",
   "execution_count": 48,
   "id": "63dae793-4c6d-4f85-a3c0-3ff01a25b025",
   "metadata": {
    "slideshow": {
     "slide_type": "subslide"
    },
    "tags": []
   },
   "outputs": [
    {
     "data": {
      "image/png": "[encoded data removed]",
      "text/plain": [
       "<Figure size 1152x720 with 1 Axes>"
      ]
     },
     "metadata": {
      "needs_background": "light"
     },
     "output_type": "display_data"
    }
   ],
   "source": [
    "plot = plt.subplots(figsize = (16,10))\n",
    "plot = sns.countplot(data = info_df, x =\"date\",hue = \"sentment\", palette = 'Paired')\n",
    "_ = plt.xticks(rotation=45)"
   ]
  },
  {
   "cell_type": "markdown",
   "id": "6ee8a26d-99a1-41df-b13c-b768420a70ae",
   "metadata": {
    "slideshow": {
     "slide_type": "slide"
    },
    "tags": []
   },
   "source": [
    "## overall reach of the page"
   ]
  },
  {
   "cell_type": "code",
   "execution_count": 49,
   "id": "fc1d74e3-400d-433f-a68b-aa7149dc6961",
   "metadata": {
    "slideshow": {
     "slide_type": "subslide"
    },
    "tags": []
   },
   "outputs": [
    {
     "data": {
      "image/png": "[encoded data removed]",
      "text/plain": [
       "<Figure size 1152x720 with 1 Axes>"
      ]
     },
     "metadata": {
      "needs_background": "light"
     },
     "output_type": "display_data"
    }
   ],
   "source": [
    "plot = plt.subplots(figsize = (16,10))\n",
    "plot = sns.countplot(data = ndf, x = \"date\", color = colors[0])\n",
    "_ = plt.xticks(rotation=45)"
   ]
  },
  {
   "cell_type": "code",
   "execution_count": null,
   "id": "a586a2f8-ceaa-4d4b-acbd-af123729ce33",
   "metadata": {},
   "outputs": [],
   "source": []
  },
  {
   "cell_type": "code",
   "execution_count": 50,
   "id": "247c47f3-bbd2-4c99-8343-70198d2ace2b",
   "metadata": {},
   "outputs": [
    {
     "name": "stderr",
     "output_type": "stream",
     "text": [
      "[NbConvertApp] Converting notebook C:\\\\Users\\\\20812018100700\\\\working\\\\work\\\\rd_part\\\\explore_slides.ipynb to slides\n",
      "[NbConvertApp] Writing 960967 bytes to C:\\Users\\20812018100700\\working\\work\\rd_part\\explore_slides.slides.html\n",
      "[NbConvertApp] Redirecting reveal.js requests to https://cdnjs.cloudflare.com/ajax/libs/reveal.js/3.5.0\n",
      "Traceback (most recent call last):\n",
      "  File \"c:\\users\\20812018100700\\appdata\\local\\programs\\python\\python39\\lib\\runpy.py\", line 197, in _run_module_as_main\n",
      "    return _run_code(code, main_globals, None,\n",
      "  File \"c:\\users\\20812018100700\\appdata\\local\\programs\\python\\python39\\lib\\runpy.py\", line 87, in _run_code\n",
      "    exec(code, run_globals)\n",
      "  File \"C:\\Users\\20812018100700\\AppData\\Local\\Programs\\Python\\Python39\\Scripts\\jupyter-nbconvert.EXE\\__main__.py\", line 7, in <module>\n",
      "  File \"c:\\users\\20812018100700\\appdata\\local\\programs\\python\\python39\\lib\\site-packages\\jupyter_core\\application.py\", line 254, in launch_instance\n",
      "    return super(JupyterApp, cls).launch_instance(argv=argv, **kwargs)\n",
      "  File \"c:\\users\\20812018100700\\appdata\\local\\programs\\python\\python39\\lib\\site-packages\\traitlets\\config\\application.py\", line 845, in launch_instance\n",
      "    app.start()\n",
      "  File \"c:\\users\\20812018100700\\appdata\\local\\programs\\python\\python39\\lib\\site-packages\\nbconvert\\nbconvertapp.py\", line 346, in start\n",
      "    self.convert_notebooks()\n",
      "  File \"c:\\users\\20812018100700\\appdata\\local\\programs\\python\\python39\\lib\\site-packages\\nbconvert\\nbconvertapp.py\", line 518, in convert_notebooks\n",
      "    self.convert_single_notebook(notebook_filename)\n",
      "  File \"c:\\users\\20812018100700\\appdata\\local\\programs\\python\\python39\\lib\\site-packages\\nbconvert\\nbconvertapp.py\", line 485, in convert_single_notebook\n",
      "    self.postprocess_single_notebook(write_results)\n",
      "  File \"c:\\users\\20812018100700\\appdata\\local\\programs\\python\\python39\\lib\\site-packages\\nbconvert\\nbconvertapp.py\", line 457, in postprocess_single_notebook\n",
      "    self.postprocessor(write_results)\n",
      "  File \"c:\\users\\20812018100700\\appdata\\local\\programs\\python\\python39\\lib\\site-packages\\nbconvert\\postprocessors\\base.py\", line 28, in __call__\n",
      "    self.postprocess(input)\n",
      "  File \"c:\\users\\20812018100700\\appdata\\local\\programs\\python\\python39\\lib\\site-packages\\nbconvert\\postprocessors\\serve.py\", line 90, in postprocess\n",
      "    http_server.listen(self.port, address=self.ip)\n",
      "  File \"c:\\users\\20812018100700\\appdata\\local\\programs\\python\\python39\\lib\\site-packages\\tornado\\tcpserver.py\", line 151, in listen\n",
      "    sockets = bind_sockets(port, address=address)\n",
      "  File \"c:\\users\\20812018100700\\appdata\\local\\programs\\python\\python39\\lib\\site-packages\\tornado\\netutil.py\", line 161, in bind_sockets\n",
      "    sock.bind(sockaddr)\n",
      "OSError: [WinError 10048] Only one usage of each socket address (protocol/network address/port) is normally permitted\n"
     ]
    }
   ],
   "source": [
    "!jupyter nbconvert C:\\\\Users\\\\20812018100700\\\\working\\\\work\\\\rd_part\\\\explore_slides.ipynb --to slides --post serve --no-input --no-prompt"
   ]
  },
  {
   "cell_type": "code",
   "execution_count": null,
   "id": "224b889b-e5b8-4e2d-8010-aba5bf9f776c",
   "metadata": {},
   "outputs": [],
   "source": []
  }
 ],
 "metadata": {
  "kernelspec": {
   "display_name": "Python 3 (ipykernel)",
   "language": "python",
   "name": "python3"
  },
  "language_info": {
   "codemirror_mode": {
    "name": "ipython",
    "version": 3
   },
   "file_extension": ".py",
   "mimetype": "text/x-python",
   "name": "python",
   "nbconvert_exporter": "python",
   "pygments_lexer": "ipython3",
   "version": "3.9.6"
  }
 },
 "nbformat": 4,
 "nbformat_minor": 5
}
